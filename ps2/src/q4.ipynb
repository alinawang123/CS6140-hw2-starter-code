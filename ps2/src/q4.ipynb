{
  "nbformat": 4,
  "nbformat_minor": 0,
  "metadata": {
    "colab": {
      "provenance": []
    },
    "kernelspec": {
      "name": "python3",
      "display_name": "Python 3"
    },
    "language_info": {
      "name": "python"
    }
  },
  "cells": [
    {
      "cell_type": "code",
      "metadata": {
        "id": "O-qSiOncTUy8"
      },
      "source": [
        "import os\n",
        "from sklearn.feature_extraction.text import CountVectorizer\n",
        "import numpy as np\n",
        "import scipy.sparse as sp\n",
        "from sklearn.linear_model import LogisticRegression\n",
        "import matplotlib.pyplot as plt\n",
        "from sklearn.model_selection import KFold\n",
        "from sklearn.decomposition import PCA\n",
        "from sklearn.metrics import precision_score, recall_score, f1_score"
      ],
      "execution_count": 94,
      "outputs": []
    },
    {
      "cell_type": "code",
      "metadata": {
        "id": "65Y4E5PsTsMT"
      },
      "source": [
        "import requests\n",
        "def read_data_from_urls(url):\n",
        "  \"\"\"\n",
        "  This function reads a raw github url, sends a request\n",
        "  assumes a plain text file present at the url and returns\n",
        "  the lines of a file\n",
        "  \"\"\"\n",
        "  req = requests.get(url)\n",
        "  req = req.text\n",
        "  return req.splitlines()"
      ],
      "execution_count": 95,
      "outputs": []
    },
    {
      "cell_type": "code",
      "metadata": {
        "id": "Kn9QmEGbT2Wg"
      },
      "source": [
        "train_data_real_url = \"https://raw.githubusercontent.com/aanchan/CS6140-hw1-starter-code/main/question2/data/train/clean_real_train.txt\"\n",
        "train_data_fake_url = \"https://raw.githubusercontent.com/aanchan/CS6140-hw1-starter-code/main/question2/data/train/clean_fake_train.txt\"\n",
        "valid_data_real_url = \"https://raw.githubusercontent.com/aanchan/CS6140-hw1-starter-code/main/question2/data/dev/clean_real_dev.txt\"\n",
        "valid_data_fake_url = \"https://raw.githubusercontent.com/aanchan/CS6140-hw1-starter-code/main/question2/data/dev/clean_fake_dev.txt\""
      ],
      "execution_count": 96,
      "outputs": []
    },
    {
      "cell_type": "code",
      "metadata": {
        "id": "W_2_3gLgUB8M"
      },
      "source": [
        "real_news_train_lines = read_data_from_urls(train_data_real_url)"
      ],
      "execution_count": 97,
      "outputs": []
    },
    {
      "cell_type": "code",
      "metadata": {
        "id": "93AdQrqxUcHy"
      },
      "source": [
        "fake_news_train_lines = read_data_from_urls(train_data_fake_url)"
      ],
      "execution_count": 98,
      "outputs": []
    },
    {
      "cell_type": "code",
      "metadata": {
        "id": "_8hX2KbRVnHP"
      },
      "source": [
        "combined_train_list = real_news_train_lines + fake_news_train_lines"
      ],
      "execution_count": 99,
      "outputs": []
    },
    {
      "cell_type": "code",
      "metadata": {
        "colab": {
          "base_uri": "https://localhost:8080/"
        },
        "id": "j9ZXLKe6YH3b",
        "outputId": "c4a0318e-5382-42eb-94bb-6d74963532e9"
      },
      "source": [
        "len(combined_train_list)"
      ],
      "execution_count": 100,
      "outputs": [
        {
          "output_type": "execute_result",
          "data": {
            "text/plain": [
              "2286"
            ]
          },
          "metadata": {},
          "execution_count": 100
        }
      ]
    },
    {
      "cell_type": "code",
      "metadata": {
        "colab": {
          "base_uri": "https://localhost:8080/"
        },
        "id": "Zfecfyz1Vw9Y",
        "outputId": "7bda94be-17ad-4cb8-a852-e39b175b95c4"
      },
      "source": [
        "vect = CountVectorizer()\n",
        "cv = vect.fit_transform(combined_train_list)\n",
        "word_list = vect.get_feature_names_out()\n",
        "count_list = cv.toarray().sum(axis=0)\n",
        "print(dict(zip(word_list,count_list)))"
      ],
      "execution_count": 101,
      "outputs": [
        {
          "output_type": "stream",
          "name": "stdout",
          "text": [
            "{'00': 1, '000': 4, '10': 7, '100': 11, '100mln': 1, '10m': 1, '11': 6, '11yo': 1, '12': 7, '13': 5, '14': 3, '15': 1, '150': 1, '17': 1, '180': 1, '184': 4, '19': 1, '1920s': 1, '197': 1, '1990': 1, '20': 1, '20000': 1, '2008': 2, '2016': 9, '2017': 1, '2018': 1, '2020': 2, '20k': 1, '22': 1, '220': 1, '24': 1, '259': 1, '270': 1, '28': 1, '2gb': 1, '30': 2, '306': 1, '31k': 1, '32': 1, '34': 1, '34m': 1, '35': 2, '37': 1, '42': 2, '43': 1, '44': 2, '452000': 1, '457': 1, '45th': 3, '49': 1, '50': 1, '500': 1, '60': 3, '6th': 1, '70': 3, '75': 1, '750': 2, '75th': 2, '83': 1, '87': 1, '8th': 1, '90': 1, '90k': 1, '91': 1, '95': 1, '97yo': 1, 'aback': 2, 'abandon': 3, 'abandoned': 1, 'abandons': 1, 'abbott': 2, 'abc': 2, 'abductions': 1, 'abe': 4, 'abedin': 1, 'abetz': 1, 'ability': 1, 'able': 2, 'abortion': 1, 'abortions': 1, 'about': 58, 'abroad': 1, 'absolutely': 2, 'absurd': 1, 'abuse': 2, 'abusing': 1, 'academy': 1, 'accept': 2, 'accepting': 1, 'accepts': 3, 'accerate': 1, 'access': 4, 'accolades': 1, 'accord': 1, 'according': 2, 'account': 2, 'accounts': 1, 'accusations': 3, 'accuse': 1, 'accused': 5, 'accusers': 6, 'accuses': 8, 'accusing': 1, 'achievement': 1, 'achievements': 1, 'aclu': 1, 'across': 1, 'act': 6, 'acting': 2, 'action': 7, 'actions': 1, 'activated': 1, 'active': 1, 'activist': 1, 'activity': 1, 'actor': 1, 'actors': 1, 'actually': 3, 'ad': 7, 'adam': 1, 'adams': 1, 'add': 1, 'addicting': 4, 'address': 8, 'addresses': 3, 'adds': 1, 'adjust': 1, 'administration': 17, 'admirals': 4, 'admire': 1, 'admission': 1, 'admissions': 1, 'admits': 7, 'admitted': 2, 'adolf': 1, 'advance': 1, 'advances': 1, 'advice': 1, 'adviser': 13, 'advises': 1, 'advisor': 5, 'advisors': 2, 'advisory': 3, 'advocate': 1, 'advocates': 1, 'afd': 1, 'affair': 1, 'affairs': 2, 'affect': 3, 'affected': 2, 'affluent': 1, 'affordable': 1, 'afghan': 1, 'afghanistan': 6, 'africa': 1, 'african': 5, 'after': 57, 'aftermath': 1, 'again': 14, 'against': 44, 'age': 4, 'agencies': 2, 'agency': 2, 'agenda': 3, 'agent': 1, 'agents': 1, 'ages': 1, 'aggravating': 1, 'agitators': 1, 'agl': 1, 'ago': 4, 'agree': 1, 'agreement': 6, 'agrees': 2, 'agriculture': 1, 'ahead': 10, 'ai': 1, 'aid': 4, 'aide': 5, 'aides': 2, 'aim': 3, 'air': 6, 'airport': 2, 'akhmetshin': 1, 'al': 4, 'alabama': 3, 'alec': 4, 'aleppo': 2, 'alert': 2, 'alertthedaycarestaff': 1, 'alex': 1, 'alicia': 1, 'alive': 1, 'all': 25, 'allegations': 7, 'alleged': 1, 'alleges': 1, 'allen': 2, 'alliance': 2, 'allies': 7, 'allow': 4, 'allowed': 4, 'allows': 4, 'ally': 1, 'almost': 2, 'alone': 2, 'already': 7, 'als': 1, 'also': 1, 'alt': 3, 'alternate': 1, 'always': 2, 'am': 2, 'amazing': 3, 'amazon': 1, 'ambassador': 1, 'ambushed': 1, 'america': 49, 'american': 22, 'americans': 22, 'americas': 1, 'amid': 4, 'amish': 1, 'amtsantritt': 1, 'an': 19, 'ana': 1, 'analysis': 8, 'analysts': 1, 'anchors': 1, 'and': 212, 'anderson': 1, 'angela': 3, 'anger': 1, 'angered': 1, 'anglican': 1, 'angry': 1, 'anniversary': 1, 'annonce': 1, 'annouces': 1, 'announced': 3, 'announcement': 7, 'announces': 13, 'anonymous': 1, 'another': 7, 'answer': 3, 'answers': 1, 'anthem': 1, 'anthony': 8, 'anti': 42, 'antichrist': 1, 'anticipation': 2, 'antique': 1, 'antithesis': 1, 'antiwar': 1, 'anxiety': 1, 'anxious': 1, 'any': 2, 'anyone': 3, 'anything': 2, 'anyway': 2, 'anzus': 1, 'ap': 1, 'apart': 1, 'apec': 2, 'apocalypse': 1, 'apologise': 1, 'apologises': 2, 'apology': 1, 'apparent': 1, 'apparently': 2, 'appeal': 2, 'appeals': 7, 'appear': 2, 'appearance': 1, 'appears': 6, 'applicants': 1, 'apply': 1, 'appoint': 1, 'appoints': 4, 'appreciates': 1, 'apprentice': 2, 'approaches': 2, 'appropriate': 1, 'approval': 1, 'approves': 1, 'approximately': 1, 'apra': 1, 'april': 1, 'arab': 2, 'arabella': 1, 'arabia': 3, 'ardent': 1, 'ardently': 1, 'are': 42, 'argued': 1, 'argument': 1, 'arizona': 5, 'armed': 1, 'armitage': 1, 'armoured': 1, 'arms': 1, 'armstrong': 1, 'army': 2, 'arnold': 1, 'around': 1, 'arpaio': 1, 'arrest': 1, 'arrested': 4, 'arrival': 1, 'arrivals': 1, 'arrive': 2, 'arrives': 4, 'art': 2, 'article': 1, 'artificial': 2, 'aryan': 1, 'as': 98, 'ascendency': 1, 'ashamed': 2, 'asia': 12, 'asian': 1, 'aside': 1, 'ask': 3, 'asked': 5, 'asking': 2, 'asks': 6, 'ass': 1, 'assad': 1, 'assails': 1, 'assange': 8, 'assassinate': 2, 'assassinated': 1, 'assassinating': 2, 'assassination': 4, 'assault': 9, 'assaulting': 2, 'assemble': 1, 'assembled': 1, 'assistant': 1, 'associates': 1, 'association': 1, 'assurance': 1, 'astronaut': 1, 'asx': 5, 'at': 91, 'atmosphere': 1, 'attack': 18, 'attacked': 2, 'attacker': 1, 'attacking': 1, 'attacks': 12, 'attempt': 2, 'attempted': 1, 'attend': 1, 'attendance': 1, 'attention': 3, 'attitudes': 1, 'attorney': 5, 'attorneys': 1, 'audience': 1, 'audio': 3, 'aussie': 2, 'australia': 27, 'australian': 7, 'australians': 2, 'australias': 1, 'austyn': 1, 'author': 1, 'authorization': 1, 'autism': 1, 'automakers': 1, 'automation': 1, 'available': 1, 'average': 2, 'aviv': 1, 'avocado': 1, 'avoid': 3, 'avoids': 2, 'avoir': 2, 'await': 1, 'awaits': 2, 'awakening': 1, 'awards': 2, 'aware': 1, 'away': 1, 'awe': 1, 'awesome': 1, 'awkward': 2, 'axed': 1, 'axing': 1, 'back': 24, 'backdown': 2, 'backers': 2, 'backfires': 1, 'backhanded': 1, 'backing': 3, 'backlash': 2, 'backs': 2, 'bad': 6, 'badass': 2, 'badly': 1, 'bald': 1, 'baldwin': 4, 'baldwins': 1, 'bali': 1, 'balistique': 1, 'balkans': 1, 'ball': 2, 'ballistic': 1, 'balloon': 1, 'ballot': 1, 'ban': 57, 'banishment': 1, 'bank': 5, 'banked': 1, 'bankers': 1, 'banking': 1, 'bankrupt': 1, 'banks': 1, 'bannon': 12, 'bans': 4, 'bar': 2, 'barack': 6, 'bare': 1, 'barge': 1, 'barking': 1, 'barnett': 1, 'barred': 1, 'barrier': 1, 'based': 1, 'bases': 1, 'bashing': 2, 'basket': 1, 'bastards': 1, 'bastille': 1, 'batavia': 1, 'bathrooms': 1, 'battle': 2, 'battleground': 2, 'bay': 1, 'baz': 1, 'bazinga': 1, 'bbc': 1, 'be': 84, 'beach': 1, 'beans': 1, 'beat': 1, 'beatdown': 2, 'beaten': 5, 'beating': 3, 'beautiful': 3, 'beauty': 1, 'because': 12, 'become': 4, 'becomes': 2, 'becoming': 1, 'bedouin': 1, 'bee': 2, 'been': 5, 'before': 14, 'begin': 1, 'beginning': 1, 'begins': 5, 'begun': 2, 'behavior': 1, 'behaviour': 1, 'behind': 14, 'behold': 1, 'beijing': 1, 'beijings': 1, 'being': 6, 'believe': 4, 'believes': 1, 'belligerent': 1, 'ben': 2, 'bench': 1, 'bennett': 1, 'berlin': 1, 'bern': 1, 'bernardi': 1, 'bernie': 4, 'berserk': 1, 'best': 4, 'bet': 1, 'betsy': 1, 'better': 1, 'between': 10, 'beyond': 6, 'bff': 1, 'bhp': 2, 'bible': 2, 'biblical': 1, 'bid': 7, 'biden': 3, 'big': 10, 'bigger': 1, 'biggest': 6, 'bigly': 1, 'bigoted': 1, 'bigotry': 1, 'bikers': 2, 'bilateral': 1, 'bill': 10, 'billion': 2, 'billionaire': 2, 'billionaires': 1, 'billiton': 1, 'billy': 2, 'bird': 1, 'birds': 1, 'birth': 1, 'birthday': 1, 'bishop': 2, 'bit': 1, 'bitter': 2, 'bizarre': 1, 'black': 27, 'blackmails': 1, 'blacks': 3, 'blame': 3, 'blamed': 1, 'blames': 4, 'blanca': 2, 'blast': 1, 'blasts': 10, 'blatant': 1, 'blindsides': 1, 'block': 5, 'blocks': 5, 'blog': 4, 'blood': 1, 'bloodbath': 1, 'bloomberg': 1, 'blow': 2, 'blowback': 1, 'blowing': 2, 'blows': 2, 'blue': 2, 'blumenthal': 1, 'bluster': 1, 'blvd': 1, 'board': 2, 'bob': 5, 'bodies': 1, 'body': 2, 'bogus': 2, 'bold': 1, 'bollywood': 1, 'bolton': 2, 'bombing': 1, 'bombshell': 5, 'bonald': 1, 'bond': 1, 'bone': 1, 'bonus': 1, 'booby': 1, 'booed': 1, 'book': 6, 'bookooball': 1, 'boom': 1, 'boos': 1, 'boosted': 1, 'boosting': 1, 'boosts': 3, 'border': 9, 'bored': 1, 'boss': 7, 'bosses': 1, 'bossie': 1, 'bot': 1, 'both': 6, 'box': 1, 'boy': 2, 'boycott': 2, 'boycottcomedian': 1, 'boys': 1, 'brad': 2, 'bragging': 1, 'brain': 1, 'brand': 3, 'brands': 1, 'brave': 2, 'break': 3, 'breakdown': 1, 'breaking': 17, 'breaks': 8, 'breed': 1, 'breitbart': 5, 'breitbartistan': 1, 'brennan': 2, 'brexit': 6, 'brian': 2, 'brick': 2, 'bridge': 1, 'bridging': 1, 'briefing': 1, 'brilliant': 1, 'brilliantly': 2, 'bring': 3, 'bringing': 2, 'brink': 1, 'brit': 1, 'britain': 2, 'british': 3, 'broad': 1, 'brock': 1, 'broke': 2, 'broken': 2, 'broker': 3, 'brooks': 1, 'brothers': 1, 'brought': 1, 'brown': 1, 'bruce': 3, 'brushed': 1, 'brushes': 1, 'brussels': 1, 'brutal': 2, 'brutally': 1, 'brzezinski': 1, 'bs': 1, 'budget': 7, 'build': 8, 'building': 3, 'buildings': 1, 'bullies': 1, 'bulls': 1, 'bully': 2, 'bump': 2, 'bumper': 1, 'bunker': 1, 'bureaucracy': 1, 'burka': 1, 'burn': 2, 'burned': 2, 'burning': 3, 'buses': 1, 'bush': 9, 'bushes': 1, 'busiest': 1, 'business': 11, 'businesses': 1, 'businessman': 2, 'busted': 4, 'but': 14, 'butthurt': 1, 'button': 1, 'buy': 1, 'buying': 1, 'by': 89, 'bypass': 1, 'cabinet': 5, 'cafe': 1, 'cair': 1, 'cairns': 1, 'cake': 1, 'california': 1, 'call': 29, 'called': 5, 'calling': 3, 'calls': 30, 'calm': 1, 'cam': 1, 'cambodian': 1, 'came': 3, 'camp': 3, 'campaign': 45, 'campaigning': 1, 'camps': 1, 'can': 21, 'canada': 3, 'canadian': 1, 'canberra': 1, 'cancel': 3, 'canceled': 1, 'canceling': 1, 'cancellation': 1, 'cancelled': 1, 'candidate': 3, 'candlelight': 1, 'cant': 4, 'cap': 2, 'capability': 1, 'capable': 1, 'capital': 5, 'captain': 1, 'caputo': 1, 'car': 7, 'card': 3, 'care': 2, 'carefully': 1, 'cares': 2, 'caribbean': 1, 'carnage': 1, 'carolina': 2, 'carrier': 2, 'carson': 1, 'cartoon': 1, 'cartooning': 1, 'casa': 2, 'case': 6, 'cast': 1, 'castro': 1, 'casual': 1, 'catatonic': 1, 'catcall': 1, 'catch': 2, 'catches': 1, 'cathy': 1, 'caucus': 1, 'caught': 8, 'cauldron': 1, 'cause': 2, 'caused': 1, 'causes': 3, 'causing': 1, 'caution': 1, 'cautious': 1, 'cbs4': 1, 'cdc': 2, 'celebrates': 2, 'celebrations': 1, 'celebrities': 4, 'celebrity': 2, 'centre': 1, 'century': 3, 'ceo': 5, 'ceos': 1, 'certain': 1, 'certificate': 1, 'certifies': 1, 'chains': 1, 'chair': 3, 'chairwoman': 1, 'chalkings': 1, 'challenge': 1, 'challenged': 1, 'challenges': 3, 'challenging': 1, 'chance': 6, 'change': 14, 'changed': 4, 'changer': 1, 'changes': 2, 'changing': 1, 'channelling': 1, 'channels': 1, 'chant': 1, 'chants': 2, 'chaos': 8, 'charade': 1, 'charge': 2, 'charged': 4, 'charges': 2, 'charitable': 1, 'charities': 1, 'charity': 1, 'charles': 1, 'charlie': 1, 'charlottesville': 7, 'charms': 1, 'chart': 1, 'cheating': 2, 'check': 2, 'checker': 1, 'checks': 2, 'cheer': 2, 'cheers': 1, 'chef': 2, 'chemical': 3, 'chess': 1, 'chicago': 1, 'chief': 18, 'child': 2, 'childhood': 1, 'children': 4, 'chilling': 2, 'china': 27, 'chinas': 1, 'chinese': 6, 'chlich': 1, 'choice': 3, 'choices': 1, 'choose': 1, 'chosen': 2, 'chris': 4, 'christian': 5, 'christians': 1, 'christie': 1, 'christmas': 2, 'christopher': 1, 'chrome': 1, 'chuck': 1, 'chumps': 1, 'church': 3, 'churches': 1, 'cia': 4, 'ciobo': 1, 'cities': 2, 'city': 5, 'civil': 7, 'civilian': 1, 'ck': 3, 'cking': 1, 'claim': 7, 'claims': 16, 'clarifies': 1, 'clarity': 1, 'clarke': 1, 'clash': 4, 'class': 4, 'classified': 3, 'classless': 1, 'classmate': 2, 'classroom': 1, 'clean': 5, 'clear': 1, 'clevelander': 1, 'clickhole': 1, 'climactic': 1, 'climate': 23, 'clinton': 157, 'clintons': 5, 'clip': 1, 'clooney': 1, 'close': 1, 'closed': 2, 'closes': 2, 'clothes': 1, 'clothing': 1, 'cloughley': 1, 'clown': 1, 'clowns': 1, 'club': 2, 'clubs': 1, 'cnbc': 2, 'cnn': 13, 'co2': 1, 'coach': 1, 'coal': 3, 'coast': 1, 'coats': 1, 'cocktail': 2, 'code': 1, 'coffee': 1, 'coincidental': 1, 'coined': 1, 'coining': 1, 'colbert': 2, 'collapse': 3, 'collapses': 1, 'colleague': 1, 'collection': 1, 'college': 10, 'colleges': 1, 'collett': 2, 'collusion': 1, 'color': 6, 'colour': 1, 'columbia': 1, 'come': 2, 'comeback': 1, 'comedy': 1, 'comes': 5, 'comey': 20, 'comic': 1, 'coming': 4, 'commander': 5, 'commanding': 1, 'commemorates': 1, 'comment': 26, 'commentator': 1, 'comments': 25, 'commercial': 1, 'commit': 2, 'commitment': 2, 'committed': 2, 'committee': 2, 'common': 2, 'comms': 1, 'communicated': 1, 'communication': 1, 'communications': 2, 'communists': 1, 'communities': 2, 'companies': 2, 'compare': 1, 'compares': 1, 'compilation': 1, 'complaint': 1, 'complete': 2, 'completely': 1, 'complex': 1, 'complicates': 1, 'complimentary': 1, 'concede': 1, 'concedes': 4, 'concerns': 5, 'concert': 1, 'concession': 1, 'concilliatory': 1, 'condemnation': 2, 'condemns': 4, 'condescendingly': 1, 'conference': 10, 'confesses': 1, 'confidant': 1, 'confident': 2, 'confirm': 1, 'confirmation': 1, 'confirmed': 6, 'confirms': 8, 'conflicted': 1, 'conflicts': 1, 'conform': 1, 'confront': 1, 'confrontational': 1, 'confronting': 1, 'confronts': 1, 'confusion': 1, 'congratulate': 1, 'congratulates': 3, 'congress': 12, 'congressional': 1, 'congressman': 5, 'congressmen': 1, 'connect': 1, 'cons': 1, 'consequences': 2, 'conservative': 7, 'conservatives': 3, 'considerar': 1, 'considering': 7, 'considers': 1, 'consolidating': 1, 'consortiumnews': 1, 'conspiracy': 3, 'conspiring': 1, 'constance': 1, 'constitution': 2, 'constitutional': 1, 'construction': 1, 'consultant': 2, 'contact': 3, 'contacts': 2, 'contest': 3, 'contestants': 1, 'continue': 1, 'continued': 1, 'continues': 7, 'control': 3, 'controlled': 1, 'controversial': 2, 'controversies': 1, 'controversy': 1, 'convening': 1, 'convention': 1, 'conversation': 2, 'converts': 1, 'convocar': 1, 'conway': 3, 'cookie': 1, 'cool': 1, 'cooperation': 2, 'cop': 2, 'cops': 2, 'copy': 1, 'cor': 1, 'coral': 1, 'corbett': 1, 'cordial': 1, 'corker': 5, 'cornell': 1, 'corner': 1, 'corners': 1, 'corporate': 1, 'correctness': 2, 'correspondents': 3, 'corrupt': 2, 'corruption': 1, 'cost': 3, 'could': 42, 'council': 3, 'councils': 1, 'counsel': 2, 'counseling': 1, 'counselled': 1, 'counselor': 1, 'counted': 1, 'counter': 3, 'countercurrents': 1, 'countering': 1, 'counting': 1, 'countries': 4, 'country': 5, 'county': 2, 'courage': 1, 'course': 3, 'court': 24, 'courtesy': 1, 'cover': 2, 'coverage': 4, 'covered': 1, 'covfefe': 2, 'coward': 3, 'cox': 1, 'coy': 1, 'crack': 1, 'crackdown': 2, 'craig': 3, 'crash': 2, 'crashes': 1, 'crave': 4, 'create': 1, 'creates': 1, 'creator': 1, 'credit': 2, 'creepy': 2, 'crime': 2, 'crimes': 1, 'criminal': 2, 'criminals': 2, 'cringe': 1, 'cripple': 1, 'crisis': 6, 'criteria': 1, 'crites': 1, 'critical': 2, 'criticise': 1, 'criticised': 1, 'criticises': 6, 'criticism': 6, 'critics': 1, 'crooked': 3, 'cross': 2, 'crowd': 4, 'crowds': 5, 'crowley': 1, 'crush': 1, 'crushed': 1, 'crushes': 1, 'crushing': 1, 'cruz': 1, 'cry': 5, 'crying': 1, 'cuba': 2, 'cube': 1, 'cuchitril': 1, 'cultivate': 1, 'cultivating': 1, 'cultural': 1, 'curbs': 1, 'curry': 1, 'curve': 1, 'cut': 5, 'cuts': 10, 'cutting': 1, 'cyber': 3, 'cyberbullying': 1, 'daca': 5, 'dad': 1, 'daddy': 2, 'daesh': 1, 'daft': 1, 'daily': 14, 'dakota': 1, 'dama': 1, 'damaged': 2, 'damages': 1, 'dan': 2, 'dance': 1, 'dances': 1, 'dangerous': 3, 'dangers': 1, 'daniel': 7, 'dankof': 1, 'dare': 1, 'dark': 1, 'darkest': 1, 'dartmouth': 1, 'darweesh': 1, 'darwin': 1, 'dass': 1, 'data': 1, 'database': 1, 'dates': 1, 'dating': 1, 'daughter': 5, 'daughters': 1, 'dauphin': 1, 'david': 9, 'davis': 1, 'day': 25, 'days': 13, 'dazu': 1, 'dc': 7, 'de': 6, 'dea': 1, 'deactivated': 1, 'dead': 5, 'deadbeating': 1, 'deadline': 1, 'deal': 44, 'dealing': 1, 'dealings': 1, 'deals': 2, 'dealt': 1, 'dean': 2, 'dear': 3, 'death': 5, 'deaths': 1, 'debate': 11, 'debates': 2, 'debt': 1, 'debts': 1, 'debut': 1, 'debuts': 1, 'deby': 1, 'decades': 2, 'decision': 10, 'decisive': 1, 'decisively': 1, 'deck': 1, 'declare': 2, 'declared': 2, 'declares': 8, 'decline': 1, 'decor': 1, 'decries': 1, 'deen': 1, 'deep': 2, 'deepens': 1, 'deeply': 1, 'defeat': 3, 'defeated': 1, 'defence': 6, 'defend': 4, 'defended': 1, 'defending': 2, 'defends': 18, 'defense': 5, 'deferred': 1, 'defying': 2, 'delays': 2, 'delegates': 1, 'delete': 3, 'deletions': 1, 'deliberately': 1, 'deliver': 2, 'delivered': 2, 'delivers': 2, 'delivery': 1, 'deloitte': 1, 'demand': 1, 'demands': 1, 'demeanour': 1, 'democracy': 1, 'democrat': 4, 'democratic': 3, 'democrats': 11, 'demolish': 1, 'demolishes': 1, 'demonstrators': 1, 'dems': 2, 'denied': 2, 'denies': 6, 'deniro': 1, 'denounces': 3, 'denzel': 1, 'depart': 1, 'department': 1, 'departure': 1, 'depends': 1, 'deplaned': 1, 'deplorable': 2, 'deplorables': 2, 'deploy': 1, 'deportation': 2, 'deportations': 1, 'depp': 2, 'depressing': 2, 'deputy': 1, 'derail': 1, 'deranged': 2, 'des': 1, 'describe': 1, 'describes': 2, 'deserve': 2, 'deserved': 2, 'deserves': 2, 'designated': 1, 'designation': 1, 'desperate': 3, 'desperately': 2, 'despite': 4, 'destroy': 4, 'destroyed': 8, 'destroys': 4, 'destruct': 2, 'destruction': 1, 'detailing': 1, 'details': 3, 'detained': 1, 'detaining': 1, 'deutsche': 1, 'deux': 1, 'devastating': 2, 'developer': 1, 'development': 1, 'devil': 1, 'devos': 1, 'devotes': 1, 'devotion': 1, 'dictated': 1, 'dictator': 1, 'did': 26, 'didnt': 11, 'die': 1, 'diego': 1, 'dies': 1, 'differences': 1, 'different': 1, 'difficulties': 1, 'dignity': 1, 'dilbert': 1, 'dillary': 1, 'dinner': 5, 'diplomacy': 1, 'diplomatic': 1, 'director': 9, 'directory': 1, 'dirty': 1, 'disabled': 2, 'disappearing': 1, 'disappointed': 1, 'disappointing': 1, 'disaster': 2, 'disavowing': 1, 'disbanded': 1, 'disclose': 1, 'discount': 1, 'discounts': 2, 'discover': 1, 'discrimination': 1, 'discuss': 2, 'discusses': 2, 'discussions': 1, 'disgusting': 3, 'dishonourable': 1, 'dismiss': 1, 'dismissed': 1, 'dismisses': 3, 'disney': 1, 'disobedience': 1, 'disorder': 1, 'display': 1, 'displeasure': 1, 'dispute': 1, 'disputes': 1, 'disqualification': 1, 'disrespects': 1, 'disrupt': 1, 'dissolve': 1, 'distances': 2, 'distracted': 1, 'distractions': 1, 'distressed': 1, 'district': 1, 'distrubing': 1, 'disturbance': 1, 'ditch': 1, 'divergences': 1, 'diverse': 1, 'divides': 1, 'divine': 1, 'divisive': 3, 'dml': 1, 'dmz': 2, 'dnc': 2, 'dni': 1, 'do': 15, 'doanld': 1, 'dodd': 1, 'does': 13, 'doesn': 1, 'doesnt': 5, 'dog': 4, 'dogs': 1, 'doing': 1, 'dollar': 8, 'domain': 1, 'domestic': 2, 'domicilio': 1, 'dominate': 3, 'dominated': 2, 'dominates': 2, 'domino': 1, 'donald': 751, 'donaldbreaux': 1, 'donates': 1, 'done': 5, 'donors': 2, 'dons': 2, 'dont': 11, 'doom': 1, 'doomed': 1, 'door': 5, 'doors': 1, 'dorm': 1, 'dose': 1, 'dossier': 1, 'doubt': 1, 'douglas': 1, 'dow': 4, 'down': 21, 'downfall': 1, 'dr': 7, 'dragged': 1, 'drain': 2, 'draining': 1, 'draintheswamp': 1, 'dramatic': 1, 'dramatically': 2, 'draw': 1, 'draws': 2, 'dream': 2, 'dreamer': 1, 'dreamers': 3, 'dresses': 1, 'drinking': 1, 'driverless': 1, 'drives': 1, 'driving': 2, 'drop': 3, 'dropping': 1, 'drops': 7, 'drug': 1, 'du': 1, 'dual': 1, 'due': 2, 'duke': 9, 'dumb': 2, 'dumbest': 1, 'dummies': 1, 'dump': 7, 'dumps': 1, 'durably': 1, 'durante': 1, 'durchsetzen': 1, 'during': 9, 'duterte': 2, 'dutton': 1, 'dwarf': 1, 'each': 2, 'early': 4, 'earth': 1, 'easier': 1, 'easily': 1, 'east': 5, 'eastern': 4, 'easy': 1, 'ebenfalls': 1, 'echoes': 2, 'eclipse': 2, 'economic': 7, 'economies': 1, 'economist': 1, 'economy': 6, 'ed': 1, 'edel': 1, 'edge': 1, 'edging': 1, 'editor': 1, 'edits': 1, 'education': 1, 'edward': 1, 'effect': 7, 'effects': 1, 'effigy': 1, 'effing': 1, 'effort': 1, 'egypt': 1, 'ein': 1, 'einsatzgruppen': 1, 'el': 4, 'elecciones': 1, 'elect': 11, 'elected': 11, 'electing': 1, 'election': 110, 'electionnight': 1, 'elections': 2, 'electoral': 9, 'electorate': 1, 'electors': 2, 'electric': 2, 'electronic': 3, 'elegant': 1, 'elephant': 1, 'elite': 2, 'elites': 5, 'elon': 1, 'email': 8, 'emails': 12, 'embargo': 1, 'embarrassing': 1, 'embassy': 5, 'embrace': 1, 'emergency': 2, 'eminem': 2, 'emissions': 1, 'emitted': 1, 'emmanual': 1, 'emmanuel': 2, 'emotional': 1, 'emotionally': 1, 'emperor': 1, 'empi': 1, 'employee': 2, 'employees': 1, 'en': 3, 'encadenen': 1, 'encounters': 1, 'encourages': 1, 'encourges': 1, 'end': 7, 'endingfed': 5, 'endorse': 4, 'endorsed': 5, 'endorsement': 2, 'endorses': 2, 'ends': 5, 'enemy': 3, 'energy': 5, 'enforce': 1, 'engage': 1, 'engaged': 1, 'engulf': 1, 'enough': 3, 'ensues': 1, 'ensure': 1, 'enthusiasm': 1, 'entirely': 1, 'entry': 1, 'enviornment': 1, 'environment': 1, 'envoy': 2, 'eowyn': 1, 'epa': 2, 'epic': 7, 'epidemic': 1, 'episode': 5, 'epstein': 1, 'er': 1, 'era': 12, 'erase': 2, 'erb': 1, 'erdogan': 1, 'erfolg': 1, 'eric': 7, 'erratic': 1, 'erster': 1, 'erupt': 1, 'es': 1, 'escalate': 1, 'escape': 1, 'escaped': 1, 'escort': 1, 'eslake': 1, 'essay': 1, 'establishment': 2, 'estate': 1, 'et': 2, 'ethics': 1, 'eu': 3, 'europe': 2, 'european': 2, 'europes': 1, 'evan': 1, 'evangelical': 2, 'evangelicals': 4, 'evans': 1, 'evasion': 1, 'even': 8, 'event': 3, 'events': 1, 'ever': 8, 'every': 8, 'everyone': 3, 'everything': 2, 'everywhere': 1, 'evidence': 4, 'evil': 4, 'ex': 6, 'exact': 2, 'exactly': 1, 'except': 2, 'exchange': 3, 'exciting': 1, 'excuse': 1, 'executed': 1, 'executive': 14, 'executives': 1, 'exit': 3, 'exonerate': 1, 'expanded': 1, 'expands': 1, 'expansion': 1, 'expect': 3, 'expected': 2, 'experience': 1, 'experiment': 1, 'expert': 5, 'experts': 5, 'explain': 1, 'explained': 3, 'explains': 4, 'explodes': 1, 'exploring': 1, 'explosive': 3, 'exporters': 1, 'exports': 1, 'expose': 2, 'exposed': 3, 'exposes': 1, 'expressed': 1, 'expresses': 1, 'expression': 1, 'extends': 1, 'extension': 1, 'extradite': 1, 'extradition': 1, 'extreme': 2, 'extremism': 1, 'eyes': 1, 'fabricated': 2, 'face': 11, 'facebook': 2, 'faced': 2, 'faces': 6, 'facing': 2, 'fact': 4, 'factor': 1, 'facts': 1, 'fail': 3, 'failed': 1, 'failing': 1, 'fails': 2, 'fair': 1, 'fairly': 1, 'fake': 12, 'faked': 1, 'fall': 5, 'fallen': 2, 'falling': 1, 'fallout': 2, 'falls': 4, 'falters': 1, 'fame': 8, 'families': 1, 'family': 10, 'famous': 1, 'fan': 2, 'fans': 9, 'fantastic': 1, 'far': 4, 'farage': 2, 'farewell': 1, 'farhadi': 1, 'farmers': 3, 'farrakhan': 1, 'fascism': 1, 'fashion': 1, 'fast': 1, 'fat': 2, 'fate': 1, 'father': 4, 'favor': 3, 'favorite': 3, 'favour': 1, 'fbi': 44, 'fear': 4, 'fearing': 1, 'fearless': 1, 'fears': 4, 'fed': 1, 'federal': 8, 'feed': 1, 'feel': 2, 'feels': 1, 'feet': 1, 'fellowship': 1, 'felt': 1, 'female': 7, 'feminist': 2, 'ferguson': 2, 'ferrell': 1, 'feu': 1, 'feud': 2, 'few': 3, 'fidel': 1, 'fiery': 1, 'fight': 12, 'fighter': 1, 'fighters': 1, 'fighting': 4, 'fights': 1, 'file': 1, 'files': 2, 'filing': 1, 'filipina': 1, 'final': 8, 'finally': 4, 'finance': 3, 'financial': 2, 'financially': 1, 'find': 3, 'finding': 1, 'finds': 4, 'fine': 2, 'finger': 3, 'fingers': 1, 'finishes': 1, 'finland': 4, 'fire': 6, 'fired': 2, 'fires': 4, 'firing': 3, 'firm': 1, 'first': 42, 'fiscal': 1, 'fishing': 1, 'fit': 2, 'fitts': 1, 'five': 3, 'fl': 2, 'fla': 1, 'flag': 3, 'flags': 2, 'flake': 2, 'flashback': 1, 'flat': 3, 'flaw': 1, 'flee': 1, 'fleeing': 1, 'flights': 1, 'flip': 1, 'flipping': 2, 'flips': 2, 'floor': 1, 'flop': 1, 'florida': 16, 'fly': 1, 'flynn': 11, 'flynns': 2, 'focus': 4, 'focuses': 1, 'follow': 1, 'followers': 1, 'following': 3, 'follows': 2, 'food': 1, 'fool': 1, 'fooling': 1, 'foolish': 1, 'fools': 1, 'football': 1, 'for': 266, 'forbes': 1, 'forbidden': 1, 'force': 5, 'forced': 1, 'forcing': 1, 'ford': 1, 'fordert': 1, 'foreign': 14, 'forever': 3, 'forget': 3, 'forgets': 1, 'forgot': 1, 'formal': 1, 'formally': 3, 'former': 19, 'formulating': 1, 'fort': 1, 'forward': 3, 'found': 1, 'foundation': 4, 'founder': 1, 'founding': 1, 'four': 2, 'fourth': 1, 'fox': 7, 'framed': 1, 'france': 2, 'frances': 1, 'francis': 1, 'francisco': 1, 'frank': 1, 'franklin': 1, 'fraud': 9, 'freak': 1, 'freaks': 1, 'free': 4, 'freedom': 3, 'freefall': 2, 'freestyle': 1, 'french': 2, 'fresh': 2, 'friend': 1, 'friends': 2, 'friendship': 1, 'from': 74, 'front': 2, 'fruit': 1, 'frydenberg': 1, 'fuck': 1, 'fuego': 1, 'fuel': 2, 'full': 15, 'fuming': 1, 'funciona': 1, 'fund': 1, 'funded': 4, 'funding': 4, 'fundraiser': 1, 'fundraising': 4, 'funds': 1, 'funniest': 1, 'furth': 1, 'further': 1, 'future': 3, 'futures': 1, 'g20': 11, 'gaffe': 1, 'gaga': 1, 'gain': 2, 'gains': 2, 'gala': 1, 'gallup': 1, 'gambling': 1, 'game': 2, 'games': 2, 'gang': 1, 'gap': 4, 'garages': 1, 'gard': 1, 'gareth': 1, 'gas': 1, 'gather': 1, 'gathers': 1, 'gauging': 1, 'gave': 5, 'gay': 1, 'general': 9, 'generals': 4, 'geopolitics': 5, 'george': 15, 'german': 1, 'germany': 2, 'get': 11, 'gets': 13, 'getting': 2, 'gettysburg': 1, 'gewonnen': 1, 'ghettos': 1, 'ghosts': 1, 'giant': 3, 'gifts': 1, 'gilded': 1, 'gillard': 1, 'gillibrand': 2, 'gingrich': 3, 'girl': 5, 'giuliani': 2, 'give': 3, 'given': 4, 'gives': 10, 'giving': 2, 'glad': 1, 'glass': 1, 'glasses': 1, 'glee': 1, 'glenn': 1, 'glitch': 1, 'global': 7, 'globalism': 1, 'globalist': 2, 'globes': 1, 'glory': 1, 'gloss': 1, 'glowing': 1, 'gm': 1, 'gma': 1, 'go': 14, 'goal': 1, 'god': 2, 'goes': 12, 'gofundme': 1, 'going': 9, 'gol': 1, 'gold': 7, 'goldbug': 1, 'golden': 1, 'goldman': 2, 'golf': 3, 'gon': 1, 'gone': 1, 'good': 7, 'google': 1, 'gop': 12, 'gorafi': 4, 'gore': 1, 'gorka': 2, 'gorsuch': 5, 'got': 4, 'gov': 2, 'govern': 1, 'governing': 1, 'government': 10, 'governments': 1, 'governor': 1, 'grab': 1, 'grabbing': 3, 'grabs': 2, 'grade': 2, 'gradual': 1, 'graffiti': 1, 'graham': 2, 'grand': 1, 'granddaughter': 2, 'grant': 1, 'grants': 1, 'grattan': 1, 'gravis': 1, 'great': 12, 'greater': 1, 'greatest': 3, 'greatness': 1, 'greek': 1, 'green': 3, 'greens': 1, 'greenwald': 1, 'greets': 1, 'greg': 2, 'grenze': 1, 'grief': 2, 'grievances': 1, 'grieve': 1, 'grilled': 1, 'grindr': 1, 'ground': 1, 'grounds': 1, 'groundwork': 1, 'group': 4, 'groups': 2, 'grow': 1, 'grows': 1, 'guam': 1, 'guaranteeing': 1, 'guarantees': 1, 'guardian': 2, 'guarding': 1, 'guards': 1, 'guerrilla': 1, 'guidelines': 1, 'guilt': 1, 'guilty': 2, 'gun': 2, 'gunners': 1, 'guru': 1, 'gutless': 1, 'gutter': 1, 'guy': 1, 'guys': 1, 'gym': 1, 'h1b': 1, 'hack': 1, 'hacker': 1, 'hackers': 1, 'hacking': 2, 'had': 9, 'hags': 1, 'hail': 2, 'hails': 1, 'hair': 1, 'haley': 2, 'hall': 1, 'halloween': 3, 'hallways': 1, 'ham': 1, 'hameed': 1, 'hamilton': 2, 'hammered': 1, 'hammers': 1, 'hamper': 1, 'hand': 2, 'handle': 1, 'hands': 3, 'handshake': 5, 'handshakes': 2, 'hang': 1, 'hangs': 1, 'hannity': 2, 'happened': 6, 'happening': 4, 'happens': 4, 'happy': 4, 'harass': 1, 'harassment': 1, 'hard': 5, 'hardens': 1, 'harder': 1, 'harry': 4, 'harvard': 1, 'harvey': 9, 'has': 58, 'hasan': 1, 'hat': 1, 'hatch': 1, 'hate': 8, 'hateful': 1, 'hater': 1, 'haters': 2, 'hating': 1, 'hatred': 2, 'hats': 1, 'haunt': 1, 'haunted': 1, 'haus': 1, 'have': 28, 'havent': 1, 'having': 1, 'havoc': 1, 'hawaiian': 2, 'hawkishness': 1, 'he': 88, 'head': 6, 'headed': 1, 'headlines': 1, 'heads': 1, 'health': 9, 'healthcare': 7, 'hear': 1, 'heard': 1, 'hearin': 1, 'hearing': 3, 'heat': 1, 'heathen': 1, 'heavily': 1, 'heavy': 1, 'hegemony': 1, 'heil': 1, 'held': 3, 'hell': 2, 'help': 5, 'helped': 4, 'helping': 2, 'helps': 1, 'hemorrhaging': 1, 'henningsen': 1, 'her': 20, 'herbert': 1, 'here': 14, 'hero': 2, 'heroic': 1, 'hes': 3, 'heureux': 1, 'hidden': 1, 'hide': 1, 'hides': 1, 'hiding': 1, 'high': 6, 'higher': 4, 'highlight': 1, 'highly': 1, 'hilarious': 4, 'hill': 1, 'hillary': 128, 'him': 33, 'himself': 6, 'hints': 2, 'hip': 1, 'hire': 1, 'his': 61, 'hispanic': 1, 'hissy': 2, 'historic': 7, 'historischer': 1, 'history': 9, 'hit': 6, 'hitches': 1, 'hitler': 4, 'hits': 12, 'hoaxer': 1, 'hoaxers': 1, 'hobart': 1, 'hobarts': 1, 'hofstra': 1, 'hold': 5, 'holders': 2, 'holding': 1, 'holds': 3, 'holliday': 2, 'hollyweirdos': 1, 'hollywood': 15, 'homage': 1, 'home': 8, 'homeland': 1, 'homeless': 5, 'honchos': 1, 'honorary': 1, 'honored': 1, 'honour': 1, 'honours': 1, 'hood': 1, 'hook': 1, 'hookers': 1, 'hop': 1, 'hope': 2, 'hopeful': 1, 'hopefully': 1, 'hopelessly': 1, 'hopes': 4, 'horns': 2, 'horrible': 2, 'horrific': 1, 'horrified': 1, 'horror': 2, 'horse': 1, 'horta': 1, 'hospitalized': 1, 'host': 5, 'hostage': 1, 'hostile': 2, 'hosts': 2, 'hot': 3, 'hotel': 5, 'hotlines': 1, 'hotspots': 1, 'hours': 2, 'house': 42, 'housing': 3, 'houston': 2, 'how': 40, 'howard': 1, 'huckabee': 2, 'huge': 3, 'hugs': 2, 'huma': 1, 'human': 5, 'humiliate': 1, 'humour': 1, 'hundreds': 1, 'hung': 1, 'hunt': 1, 'hunters': 1, 'huntsman': 1, 'hurricane': 4, 'hurricanes': 1, 'hurt': 1, 'hurting': 1, 'hurts': 1, 'husbands': 1, 'hush': 1, 'hustle': 1, 'huw': 1, 'hypocrisy': 1, 'ian': 1, 'ibd': 1, 'icbm': 1, 'ice': 1, 'icke': 1, 'idaho': 1, 'idea': 1, 'identified': 2, 'identity': 1, 'ideology': 1, 'idiocy': 1, 'idiot': 1, 'idyll': 1, 'if': 52, 'ignorant': 1, 'ignore': 2, 'ignored': 1, 'ignorer': 1, 'ignores': 2, 'ignoring': 2, 'iii': 1, 'il': 1, 'illegal': 8, 'illegally': 1, 'im': 2, 'image': 3, 'imf': 1, 'immediate': 1, 'immediately': 2, 'immense': 1, 'immigrant': 2, 'immigrants': 4, 'immigration': 19, 'immunity': 1, 'impact': 3, 'impacted': 1, 'impartiality': 1, 'impeach': 1, 'impeached': 2, 'impeachment': 2, 'implications': 1, 'implies': 1, 'implodes': 1, 'imploding': 2, 'implosion': 1, 'import': 1, 'important': 1, 'imports': 1, 'imposes': 1, 'impossible': 2, 'impress': 1, 'impressed': 1, 'impression': 2, 'improper': 1, 'improve': 1, 'in': 304, 'inappropriate': 2, 'inauguration': 15, 'incident': 1, 'inciting': 1, 'included': 1, 'includes': 3, 'income': 3, 'incoming': 1, 'increase': 3, 'increased': 1, 'incredible': 1, 'indefinitely': 1, 'independence': 2, 'independents': 3, 'index': 1, 'indian': 1, 'indiana': 1, 'indicate': 1, 'indicted': 1, 'indictments': 1, 'indirectly': 1, 'individuals': 1, 'indonesia': 2, 'indonesian': 1, 'industry': 1, 'infamous': 1, 'inflation': 2, 'influence': 1, 'influencer': 1, 'influential': 2, 'info': 7, 'information': 14, 'informed': 1, 'infowarriors': 1, 'infrastructure': 2, 'inherit': 2, 'inherits': 1, 'injuring': 1, 'innocent': 2, 'inquiry': 1, 'ins': 3, 'insane': 2, 'inside': 4, 'insider': 3, 'insiders': 2, 'insist': 1, 'insistence': 1, 'insists': 2, 'inspiration': 1, 'inspired': 1, 'instagram': 2, 'install': 1, 'instantly': 1, 'instead': 2, 'insulted': 1, 'insults': 3, 'insurance': 1, 'intake': 1, 'intel': 2, 'intelligence': 7, 'intense': 1, 'intensifies': 2, 'intercept': 1, 'interest': 1, 'interests': 2, 'interfering': 1, 'interlude': 1, 'internet': 4, 'interpersonal': 1, 'intervention': 1, 'interventionist': 1, 'interview': 5, 'interviewing': 1, 'interviews': 1, 'intimidate': 1, 'intimidated': 1, 'intimidation': 4, 'into': 14, 'intolerant': 1, 'intro': 1, 'invented': 1, 'investigation': 19, 'investigator': 1, 'investigators': 1, 'investment': 2, 'investor': 1, 'investors': 2, 'invigorates': 1, 'invisible': 3, 'invited': 1, 'invites': 2, 'involve': 1, 'iowa': 4, 'iran': 16, 'iranian': 1, 'irans': 1, 'iraq': 1, 'iraqi': 2, 'ire': 1, 'irma': 3, 'is': 170, 'isis': 6, 'islam': 4, 'islamic': 2, 'islamphobic': 1, 'island': 2, 'islands': 1, 'isnt': 3, 'isolated': 1, 'israel': 16, 'israeli': 5, 'israels': 3, 'issue': 1, 'issues': 5, 'issuing': 1, 'it': 66, 'italian': 1, 'italy': 1, 'its': 7, 'itself': 1, 'ivana': 1, 'ivanka': 13, 'jab': 1, 'jack': 1, 'jackson': 1, 'jail': 3, 'jailed': 1, 'jake': 2, 'jalandoni': 1, 'james': 16, 'janet': 3, 'japan': 7, 'jared': 2, 'jeff': 7, 'jeffrey': 1, 'jennett': 1, 'jennifer': 1, 'jerome': 1, 'jerusalem': 17, 'jesse': 1, 'jesuit': 1, 'jets': 1, 'jew': 1, 'jewish': 3, 'jews': 1, 'jfk': 2, 'jibe': 1, 'jibes': 1, 'jill': 1, 'jim': 1, 'jimmy': 1, 'jinping': 4, 'jinpingi': 1, 'jinpings': 1, 'jitters': 1, 'jnr': 1, 'job': 3, 'jobs': 4, 'joe': 6, 'john': 10, 'johnny': 2, 'johnson': 1, 'join': 2, 'joined': 1, 'joins': 1, 'joke': 1, 'jokes': 4, 'jokester': 1, 'jon': 1, 'jones': 4, 'jong': 4, 'jordan': 1, 'jordanian': 1, 'journalist': 3, 'journalists': 2, 'journey': 2, 'jr': 12, 'jrs': 1, 'judge': 10, 'judges': 1, 'judgey': 1, 'judicial': 2, 'julia': 1, 'julian': 5, 'julie': 1, 'jumped': 1, 'jumps': 2, 'junior': 1, 'jury': 1, 'just': 61, 'justice': 4, 'kaine': 1, 'kansas': 1, 'kanye': 2, 'karma': 1, 'kate': 1, 'katehon': 4, 'katrina': 1, 'kazanmak': 1, 'keating': 1, 'keenly': 1, 'keep': 3, 'keeping': 2, 'keeps': 2, 'kelly': 5, 'kellyanne': 1, 'ken': 1, 'kept': 1, 'kevin': 1, 'key': 12, 'kgb': 1, 'khan': 2, 'khanfar': 1, 'khans': 1, 'kick': 1, 'kicks': 5, 'kidding': 1, 'kidman': 1, 'kidnapped': 1, 'kids': 3, 'kikes': 1, 'kilcullens': 1, 'kill': 6, 'killed': 5, 'killer': 2, 'killing': 1, 'kills': 1, 'kim': 6, 'kimmel': 1, 'kind': 1, 'king': 2, 'kirsten': 1, 'kissinger': 2, 'kkk': 4, 'kneeling': 2, 'knees': 1, 'knew': 2, 'knife': 2, 'knight': 1, 'knocked': 1, 'know': 11, 'knowledge': 4, 'known': 1, 'knows': 2, 'kommonsentsjane': 1, 'korea': 52, 'korean': 5, 'koreans': 2, 'koreas': 1, 'kosher': 1, 'kremlin': 5, 'kt': 1, 'kurdish': 1, 'kushner': 4, 'la': 5, 'label': 1, 'labels': 1, 'lack': 1, 'lacks': 1, 'lacy': 1, 'laden': 1, 'lady': 4, 'lago': 2, 'lahren': 1, 'lakshmima': 1, 'lament': 1, 'land': 1, 'landings': 1, 'landmark': 1, 'lands': 1, 'landslide': 5, 'language': 2, 'lara': 2, 'las': 5, 'lashes': 7, 'lashing': 1, 'last': 10, 'lasting': 1, 'late': 2, 'latest': 8, 'latino': 1, 'laugh': 2, 'laughed': 1, 'laughing': 1, 'laughter': 1, 'launch': 1, 'launches': 2, 'lavrov': 1, 'law': 8, 'lawn': 2, 'lawsuit': 9, 'lawsuits': 3, 'lawyer': 6, 'lawyers': 6, 'lays': 2, 'le': 8, 'lead': 15, 'leader': 5, 'leaders': 12, 'leadership': 1, 'leading': 3, 'leads': 2, 'leaked': 3, 'leaking': 1, 'leaks': 4, 'learn': 2, 'learned': 1, 'learning': 1, 'leave': 10, 'leaves': 3, 'leaving': 2, 'lebron': 3, 'lectures': 1, 'lecturing': 1, 'led': 1, 'left': 8, 'leftists': 1, 'lefty': 1, 'legacy': 3, 'legal': 6, 'legalize': 1, 'legally': 1, 'lego': 1, 'less': 3, 'lesser': 2, 'lessons': 1, 'let': 2, 'lethal': 1, 'letter': 5, 'letting': 1, 'lgbt': 1, 'liar': 2, 'lib': 2, 'liberal': 7, 'liberals': 6, 'libertarian': 2, 'libertarians': 1, 'liberty': 11, 'libertynews': 1, 'libs': 2, 'licenses': 1, 'licitation': 1, 'licite': 1, 'lie': 4, 'lied': 1, 'lies': 6, 'life': 8, 'lifetime': 1, 'light': 1, 'lights': 1, 'like': 20, 'likely': 4, 'likened': 1, 'likud': 1, 'limbaugh': 1, 'limbo': 3, 'limit': 1, 'limiting': 1, 'limo': 1, 'lindsey': 1, 'line': 2, 'lining': 1, 'link': 2, 'linked': 3, 'links': 3, 'list': 7, 'listen': 5, 'listens': 1, 'literal': 1, 'literally': 4, 'literature': 1, 'little': 5, 'live': 12, 'lived': 1, 'liveris': 2, 'lives': 2, 'll': 6, 'llama': 1, 'load': 1, 'loan': 1, 'loathing': 1, 'lobbying': 1, 'lobbyist': 1, 'lobbyists': 1, 'local': 1, 'locals': 2, 'lock': 4, 'locker': 1, 'locks': 1, 'lodged': 1, 'lodges': 1, 'logan': 1, 'lol': 2, 'london': 3, 'londons': 1, 'long': 4, 'longer': 1, 'look': 9, 'looking': 3, 'lookout': 1, 'looks': 3, 'looming': 1, 'looms': 1, 'loophole': 1, 'lord': 1, 'lose': 7, 'loser': 1, 'losers': 2, 'loses': 9, 'losing': 2, 'loss': 4, 'lost': 9, 'lot': 2, 'louis': 3, 'love': 5, 'loves': 1, 'low': 2, 'lowest': 1, 'lows': 1, 'loyalists': 2, 'loyalty': 1, 'lu': 1, 'lucia': 1, 'lucky': 1, 'luhrmann': 1, 'lui': 1, 'lurks': 1, 'lushsux': 1, 'lying': 4, 'ma': 1, 'macdonald': 2, 'machado': 1, 'machine': 2, 'machines': 6, 'macron': 6, 'maddow': 2, 'made': 5, 'maga': 1, 'magafeed': 1, 'magazine': 2, 'magnificent': 1, 'maiden': 1, 'mail': 1, 'mainstream': 2, 'major': 12, 'makati': 1, 'make': 23, 'makes': 9, 'making': 6, 'malcolm': 11, 'male': 2, 'man': 14, 'manafort': 4, 'manaforts': 1, 'manager': 3, 'manchester': 1, 'mandarin': 1, 'mandate': 1, 'manila': 2, 'manning': 1, 'mans': 1, 'mantenimiento': 1, 'manufacturing': 2, 'many': 5, 'map': 2, 'mar': 2, 'marais': 1, 'marblenecltr': 1, 'march': 4, 'marchers': 1, 'marches': 1, 'marching': 1, 'marijuana': 1, 'marine': 1, 'marines': 1, 'mark': 3, 'market': 11, 'markets': 17, 'marlene': 1, 'marmite': 1, 'married': 1, 'mars': 1, 'maryland': 2, 'mask': 1, 'masks': 2, 'mass': 3, 'massive': 6, 'masterful': 1, 'matched': 1, 'mate': 1, 'materialise': 1, 'math': 1, 'mathematically': 1, 'mathews': 1, 'matt': 2, 'matters': 1, 'mauer': 1, 'max': 1, 'may': 18, 'maybe': 1, 'mayor': 2, 'mayweather': 1, 'mccain': 3, 'mccains': 1, 'mcdonalds': 1, 'mcfarland': 1, 'mcfaul': 1, 'mcgahn': 1, 'mcmaster': 3, 'mcmullin': 1, 'me': 10, 'mean': 5, 'meaning': 1, 'means': 3, 'meant': 1, 'meddle': 1, 'meddled': 1, 'media': 35, 'medley': 1, 'meet': 14, 'meeting': 30, 'meetings': 1, 'meets': 7, 'megyn': 4, 'mein': 1, 'melania': 15, 'melbourne': 2, 'meltdown': 1, 'members': 1, 'memo': 3, 'memory': 1, 'men': 6, 'mend': 1, 'mental': 2, 'mentally': 1, 'menu': 1, 'merit': 1, 'merkel': 2, 'meryl': 1, 'mess': 2, 'message': 8, 'messages': 1, 'messiah': 1, 'met': 2, 'metals': 1, 'metaphor': 2, 'mexican': 2, 'mexicans': 2, 'mexico': 17, 'mexiko': 1, 'michael': 18, 'michelle': 4, 'michigan': 4, 'microphone': 1, 'mid': 1, 'middle': 7, 'might': 4, 'migrants': 1, 'mika': 1, 'mike': 8, 'milestone': 1, 'militants': 2, 'military': 20, 'miller': 1, 'million': 4, 'millions': 4, 'milo': 1, 'miltary': 1, 'mind': 4, 'minds': 1, 'miners': 3, 'minhaj': 1, 'mining': 1, 'minister': 3, 'ministry': 1, 'minnesota': 1, 'minorities': 1, 'minority': 1, 'minute': 2, 'miracle': 1, 'misconduct': 4, 'misleading': 2, 'mismo': 1, 'misogynist': 2, 'misogyny': 1, 'miss': 5, 'missed': 1, 'missile': 7, 'missiles': 2, 'missing': 3, 'mission': 2, 'mississippi': 1, 'mistake': 1, 'mistakes': 1, 'mistrust': 1, 'mitch': 1, 'mitt': 3, 'mixed': 2, 'mixtape': 1, 'mob': 3, 'mobile': 1, 'mobilize': 2, 'moby': 1, 'mocked': 1, 'mocks': 1, 'model': 3, 'models': 1, 'modern': 1, 'modi': 1, 'moines': 1, 'molodets': 1, 'molotov': 2, 'moment': 2, 'moments': 5, 'momentum': 1, 'money': 8, 'monitor': 1, 'montel': 1, 'montenegro': 1, 'months': 6, 'monuments': 1, 'moo': 2, 'moon': 3, 'moore': 12, 'morale': 1, 'moralmatters': 1, 'morbidly': 1, 'more': 30, 'morning': 3, 'mortgage': 1, 'moscow': 4, 'mosque': 1, 'most': 10, 'mosul': 2, 'mother': 2, 'motherfucker': 1, 'mothers': 1, 'motivated': 1, 'mould': 1, 'mount': 2, 'mountains': 1, 'mourn': 1, 'mourning': 2, 'mouth': 1, 'move': 18, 'movement': 1, 'mover': 1, 'moves': 1, 'movie': 2, 'moving': 4, 'mow': 2, 'moyers': 1, 'mr': 6, 'msnbc': 6, 'much': 3, 'mueller': 4, 'mug': 1, 'mulls': 1, 'multibillion': 1, 'murals': 1, 'murdoch': 1, 'murkier': 1, 'murky': 1, 'murphy': 1, 'museum': 1, 'musicians': 1, 'musk': 1, 'musket': 4, 'muskets': 1, 'muslim': 8, 'must': 12, 'muster': 1, 'my': 8, 'myself': 1, 'na': 1, 'nach': 1, 'nafta': 1, 'nailed': 1, 'nails': 1, 'naked': 1, 'name': 2, 'named': 3, 'names': 5, 'narcissist': 2, 'narendra': 1, 'narrative': 2, 'nasa': 1, 'nasty': 2, 'nation': 6, 'national': 19, 'nationals': 1, 'nations': 4, 'nato': 11, 'navajos': 1, 'nazis': 2, 'nba': 2, 'nbc': 2, 'nc': 1, 'near': 1, 'nearest': 1, 'nearly': 2, 'neck': 2, 'need': 6, 'needs': 7, 'negative': 4, 'negotiating': 1, 'neighbor': 1, 'neil': 3, 'neo': 3, 'neocon': 2, 'neocons': 2, 'nervous': 5, 'netanyahu': 3, 'network': 6, 'networks': 1, 'nevada': 3, 'never': 3, 'nevertrump': 1, 'new': 74, 'newcastle': 1, 'newest': 1, 'news': 42, 'newsnight': 1, 'newt': 2, 'next': 12, 'nfl': 9, 'nice': 1, 'nicole': 1, 'nieto': 1, 'night': 12, 'nightmare': 3, 'nikki': 1, 'nine': 2, 'niro': 2, 'no': 19, 'nobody': 4, 'nominate': 1, 'nominates': 1, 'nomination': 2, 'nominee': 2, 'non': 2, 'nonsense': 1, 'nord': 1, 'nordstrom': 2, 'normal': 1, 'norpoth': 1, 'north': 59, 'nosedive': 1, 'nostradamus': 2, 'not': 61, 'note': 1, 'notes': 1, 'nothing': 4, 'notice': 1, 'notion': 1, 'noun': 1, 'november': 4, 'now': 26, 'nsa': 1, 'nsw': 2, 'nt': 1, 'nuclear': 15, 'nullify': 1, 'number': 4, 'numbers': 7, 'ny': 2, 'nyt': 5, 'nytimes': 1, 'obama': 59, 'obamacare': 10, 'obamas': 1, 'obese': 1, 'obsessed': 1, 'obstruction': 2, 'obtained': 1, 'october': 3, 'of': 271, 'off': 21, 'offended': 1, 'offensive': 2, 'offer': 3, 'offers': 4, 'offguardian': 1, 'office': 8, 'officer': 1, 'officers': 2, 'official': 9, 'officially': 1, 'officials': 4, 'offstage': 1, 'oh': 1, 'ohio': 3, 'oil': 1, 'ok': 1, 'old': 11, 'oligarchy': 5, 'oliver': 1, 'on': 257, 'onboard': 1, 'once': 2, 'one': 16, 'ongoing': 1, 'online': 4, 'only': 7, 'ono': 1, 'op': 3, 'opeds': 1, 'open': 8, 'opens': 4, 'operation': 1, 'opinion': 2, 'opioid': 3, 'oppo': 1, 'opponents': 1, 'opportunities': 2, 'opportunity': 4, 'oppose': 1, 'opposing': 1, 'opposite': 1, 'opposition': 2, 'optimism': 2, 'optimistic': 1, 'option': 3, 'or': 20, 'orb': 1, 'order': 25, 'ordered': 3, 'orders': 8, 'org': 2, 'organ': 1, 'original': 1, 'orthodox': 1, 'osborne': 1, 'oscars': 1, 'other': 8, 'others': 1, 'otherwise': 1, 'otto': 1, 'our': 1, 'ourselves': 1, 'out': 55, 'outage': 1, 'outcome': 3, 'outlet': 1, 'outlets': 1, 'outlines': 2, 'outlook': 3, 'outperforms': 1, 'outs': 3, 'outside': 6, 'outspends': 1, 'ovala': 1, 'over': 60, 'overhaul': 3, 'overnight': 1, 'overseas': 4, 'overshadows': 1, 'overturned': 1, 'owe': 1, 'owens': 1, 'own': 9, 'owned': 1, 'owners': 1, 'pac': 3, 'pacific': 3, 'package': 1, 'pact': 3, 'paddock': 2, 'page': 1, 'paid': 7, 'painted': 2, 'painter': 2, 'palestine': 1, 'palestinian': 3, 'panel': 4, 'panellist': 1, 'panels': 1, 'panic': 3, 'panics': 1, 'panned': 1, 'pantano': 1, 'papadopoulos': 3, 'paper': 2, 'para': 1, 'parade': 1, 'parallels': 1, 'parcel': 1, 'pardon': 4, 'pardons': 3, 'paris': 16, 'parker': 1, 'parkinson': 1, 'parliament': 3, 'parnell': 1, 'parodies': 2, 'parody': 2, 'part': 3, 'particular': 1, 'partner': 1, 'partnership': 1, 'parts': 2, 'party': 10, 'partying': 1, 'passed': 1, 'passionate': 1, 'past': 2, 'pastor': 4, 'path': 3, 'patience': 1, 'patriot': 1, 'patriotic': 1, 'patriotism': 1, 'patrol': 1, 'paul': 15, 'paula': 1, 'pausing': 1, 'paving': 1, 'pawns': 1, 'pay': 7, 'paying': 2, 'payments': 2, 'paypal': 1, 'payroll': 1, 'pays': 2, 'peace': 8, 'peaceful': 1, 'peacenik': 1, 'pedo': 1, 'pen': 1, 'pena': 1, 'penalty': 1, 'pence': 11, 'penn': 1, 'pennsylvania': 2, 'pentagon': 2, 'people': 17, 'per': 1, 'percent': 2, 'perfect': 3, 'perfectly': 1, 'performance': 2, 'perhaps': 1, 'permit': 1, 'perry': 1, 'person': 5, 'personal': 1, 'personnel': 2, 'persuade': 1, 'pervert': 1, 'peso': 1, 'pete': 2, 'peter': 2, 'petition': 2, 'petraeus': 1, 'pharmaceuticals': 1, 'phd': 1, 'pheasant': 1, 'phenomenon': 1, 'philip': 2, 'philippines': 3, 'phoenix': 3, 'phone': 9, 'phones': 1, 'photo': 5, 'photoshops': 1, 'pick': 13, 'picks': 4, 'pide': 1, 'piece': 1, 'pierson': 1, 'pig': 2, 'pigs': 1, 'pilger': 2, 'piling': 1, 'pillow': 1, 'pimco': 1, 'pimp': 1, 'pimping': 1, 'pin': 1, 'pinkerton': 1, 'pipeline': 1, 'pipelines': 1, 'pissed': 1, 'pisses': 1, 'pitched': 1, 'pitt': 1, 'pivot': 1, 'place': 3, 'plagiarized': 1, 'plan': 20, 'plane': 2, 'planning': 2, 'plans': 10, 'plant': 1, 'play': 5, 'played': 1, 'players': 3, 'playing': 1, 'playmate': 1, 'plays': 2, 'plea': 1, 'pleading': 1, 'pleads': 1, 'pleas': 1, 'pleased': 1, 'pledge': 1, 'pledges': 2, 'plot': 1, 'plotting': 2, 'plus': 2, 'pm': 4, 'pocahontas': 1, 'podesta': 1, 'podium': 1, 'poem': 3, 'poet': 1, 'poetry': 1, 'point': 5, 'pointing': 2, 'points': 7, 'poised': 1, 'pokies': 1, 'police': 4, 'policies': 7, 'policy': 18, 'political': 15, 'politically': 1, 'politician': 1, 'politicians': 2, 'politics': 5, 'poll': 15, 'polling': 4, 'polls': 11, 'pollster': 1, 'pollsters': 2, 'pols': 1, 'pompeo': 1, 'poop': 1, 'poor': 2, 'pope': 2, 'popes': 1, 'popular': 3, 'population': 1, 'populism': 3, 'populist': 1, 'pork': 1, 'poroshenko': 1, 'porque': 1, 'portland': 1, 'portraying': 2, 'portrays': 2, 'position': 1, 'positions': 2, 'positive': 2, 'possibilities': 2, 'possibility': 1, 'possible': 8, 'possibly': 1, 'post': 11, 'posted': 1, 'poster': 1, 'posts': 4, 'potential': 1, 'pour': 2, 'powell': 1, 'power': 13, 'powerful': 1, 'powers': 3, 'practice': 1, 'practices': 1, 'praise': 1, 'praises': 7, 'pray': 2, 'pre': 3, 'predator': 1, 'predecessors': 1, 'predictable': 1, 'predicted': 7, 'prediction': 3, 'predictions': 1, 'predicts': 7, 'preemptive': 1, 'preparation': 1, 'prepare': 3, 'prepared': 1, 'prepares': 4, 'preparing': 1, 'pres': 1, 'presidency': 32, 'president': 91, 'presidential': 16, 'presidents': 2, 'press': 21, 'presstitute': 1, 'presstitutes': 1, 'presstv': 1, 'pressure': 2, 'preview': 1, 'previous': 1, 'price': 2, 'priceless': 1, 'prices': 2, 'priebus': 2, 'primal': 2, 'primary': 1, 'prime': 2, 'primer': 1, 'primera': 1, 'priming': 1, 'prince': 1, 'print': 1, 'priority': 1, 'prison': 1, 'private': 3, 'pro': 10, 'probably': 3, 'probe': 12, 'problem': 2, 'production': 1, 'productive': 2, 'prof': 1, 'profession': 1, 'professor': 3, 'profile': 1, 'profit': 1, 'program': 3, 'programs': 1, 'progress': 1, 'project': 1, 'projection': 1, 'promise': 3, 'promised': 4, 'promises': 16, 'promoted': 1, 'promotes': 1, 'prompts': 3, 'proof': 4, 'propaganda': 6, 'property': 1, 'prophecy': 2, 'proportions': 1, 'proposed': 1, 'proposes': 2, 'prosecute': 1, 'prospects': 1, 'prostitutes': 1, 'protect': 1, 'protecting': 2, 'protectionist': 3, 'protections': 1, 'protects': 1, 'protest': 12, 'protester': 5, 'protesters': 12, 'protesting': 1, 'protestors': 2, 'protests': 17, 'prototypes': 1, 'proud': 1, 'proudly': 1, 'prove': 2, 'proved': 2, 'proven': 1, 'proves': 5, 'provide': 2, 'provides': 1, 'proving': 1, 'provocations': 1, 'provoke': 1, 'provoking': 1, 'pruitt': 3, 'psalm': 1, 'psychic': 1, 'psychopath': 1, 'public': 7, 'publicly': 1, 'puerto': 4, 'pulled': 1, 'pulling': 1, 'pulls': 2, 'pump': 1, 'punch': 4, 'pundits': 1, 'punish': 2, 'punk': 1, 'puppet': 1, 'purple': 1, 'pursue': 2, 'pursuit': 1, 'push': 9, 'pushes': 3, 'pushing': 1, 'pussies': 1, 'pussy': 1, 'put': 10, 'putin': 32, 'puts': 5, 'putting': 2, 'pyne': 1, 'pyongyang': 1, 'qaeda': 1, 'qanda': 2, 'qatar': 1, 'qna': 2, 'que': 3, 'queen': 3, 'question': 3, 'questions': 5, 'quick': 2, 'quiet': 1, 'quietly': 1, 'quiff': 1, 'quit': 3, 'quits': 1, 'quitting': 1, 'quiz': 2, 'quotes': 1, 'rabbi': 1, 'race': 9, 'rachel': 2, 'racism': 2, 'racist': 6, 'radical': 1, 'radicalisation': 1, 'radikale': 1, 'radio': 3, 'rage': 3, 'rages': 1, 'raids': 1, 'raise': 1, 'raised': 1, 'rallies': 4, 'rally': 33, 'ramifications': 1, 'ramos': 1, 'ramp': 1, 'ramps': 1, 'ran': 1, 'rancher': 1, 'randy': 1, 'ranging': 1, 'rank': 1, 'ranking': 1, 'rant': 1, 'rants': 2, 'rap': 5, 'rape': 3, 'raped': 2, 'rapist': 1, 'rapprochement': 1, 'rate': 2, 'rates': 1, 'rather': 1, 'ratings': 2, 'ravaged': 1, 'ray': 1, 're': 7, 'reaches': 2, 'react': 8, 'reaction': 4, 'reactionaries': 1, 'reactions': 1, 'reacts': 3, 'read': 2, 'readies': 1, 'reading': 1, 'ready': 7, 'reagan': 2, 'real': 8, 'realities': 2, 'reality': 4, 'really': 7, 'reason': 7, 'reasons': 4, 'reassure': 2, 'reassures': 1, 'rebecca': 1, 'rebound': 1, 'rebuild': 2, 'rebuke': 1, 'rebuked': 1, 'rebuts': 1, 'recap': 1, 'receives': 2, 'recent': 1, 'recites': 2, 'recklessly': 1, 'recognises': 1, 'recognising': 1, 'recognize': 1, 'recommended': 1, 'recommits': 1, 'record': 8, 'recordings': 1, 'records': 5, 'recount': 2, 'recovery': 1, 'recreates': 1, 'recruits': 2, 'red': 2, 'reddit': 1, 'redecorate': 1, 'redflag': 2, 'redo': 1, 'reeling': 1, 'referee': 1, 'referred': 1, 'reflation': 1, 'reflected': 1, 'reform': 3, 'refuge': 1, 'refugee': 15, 'refugees': 6, 'refuses': 4, 'refusing': 3, 'regime': 1, 'region': 1, 'regional': 1, 'registration': 1, 'regrets': 1, 'regular': 1, 'regulations': 1, 'regulators': 1, 'reid': 4, 'reilly': 1, 'reince': 2, 'reinvigorates': 1, 'reject': 2, 'rejects': 4, 'rejoice': 1, 'relate': 1, 'related': 1, 'relations': 9, 'relationship': 6, 'release': 1, 'releases': 2, 'releasing': 1, 'relief': 1, 'religion': 1, 'religious': 1, 'remarks': 4, 'rematch': 1, 'remember': 2, 'remembers': 1, 'reminders': 1, 'removed': 2, 'renews': 1, 'reno': 3, 'reopened': 1, 'reopening': 4, 'reopens': 2, 'rep': 1, 'repaired': 1, 'repay': 2, 'repeal': 3, 'repealing': 2, 'repeatedly': 2, 'repeats': 1, 'replace': 7, 'replaced': 1, 'replacements': 1, 'replaces': 1, 'replica': 1, 'report': 15, 'reportedly': 1, 'reporter': 9, 'reporters': 3, 'reporting': 1, 'reports': 11, 'represent': 1, 'represents': 1, 'reprimanded': 1, 'reprises': 1, 'reprising': 1, 'republican': 23, 'republicans': 14, 'request': 1, 'requests': 2, 'rescue': 1, 'resentments': 1, 'reserve': 2, 'reset': 3, 'resettlement': 2, 'resignation': 1, 'resigns': 1, 'resist': 2, 'resistance': 2, 'respect': 2, 'respected': 1, 'respects': 1, 'responds': 4, 'response': 9, 'restore': 1, 'restrain': 1, 'restraining': 1, 'restraint': 1, 'restricting': 1, 'restriction': 1, 'result': 4, 'results': 7, 'resume': 1, 'resurgence': 1, 'retired': 2, 'return': 1, 'returns': 3, 'retweet': 1, 'retweets': 1, 'reuters': 1, 'reveal': 4, 'revealed': 9, 'reveals': 3, 'revelation': 1, 'revenge': 2, 'revers': 1, 'reversing': 1, 'review': 3, 'reviews': 1, 'revised': 1, 'revitalization': 1, 'revival': 1, 'revive': 1, 'revives': 1, 'revokes': 1, 'revolt': 1, 'revolution': 10, 'revolutions': 1, 'reward': 1, 'reworked': 1, 'rex': 6, 'rhetoric': 4, 'ribbon': 1, 'rican': 1, 'rich': 1, 'richard': 5, 'richardson': 1, 'rick': 1, 'rickards': 1, 'rico': 2, 'ricos': 1, 'rid': 1, 'ride': 1, 'rider': 1, 'ridiculed': 1, 'ridiculous': 3, 'rigged': 11, 'rigging': 1, 'right': 14, 'rights': 4, 'rightwing': 1, 'rinat': 1, 'ring': 1, 'ringing': 1, 'rioters': 1, 'riots': 8, 'ripped': 1, 'rips': 1, 'rise': 8, 'rises': 2, 'risk': 4, 'rival': 1, 'rnc': 1, 'road': 1, 'roadblock': 1, 'roast': 1, 'roasts': 1, 'robart': 1, 'robarts': 1, 'robbed': 2, 'robbers': 1, 'robert': 5, 'roberts': 4, 'robot': 1, 'rocked': 1, 'rocket': 1, 'rockets': 1, 'roger': 2, 'rogers': 1, 'rogue': 1, 'role': 1, 'rome': 1, 'romney': 6, 'ron': 2, 'ronald': 1, 'room': 1, 'root': 1, 'rope': 1, 'rough': 1, 'rounding': 1, 'rousing': 1, 'route': 1, 'row': 2, 'rowe': 1, 'roy': 4, 'rubio': 1, 'ruin': 1, 'rule': 2, 'rules': 5, 'ruling': 3, 'run': 8, 'running': 4, 'runs': 1, 'runway': 1, 'rural': 1, 'rushed': 4, 'rushes': 1, 'russ': 1, 'russell': 1, 'russia': 68, 'russian': 17, 'russians': 1, 'russias': 1, 'ruthlessly': 1, 'ryan': 8, 'rye': 1, 'saakashvili': 2, 'sabotaged': 1, 'sachs': 1, 'sack': 1, 'sacking': 2, 'sacks': 2, 'sad': 4, 'safe': 3, 'saga': 2, 'sagen': 1, 'said': 11, 'saker': 1, 'salary': 1, 'sally': 1, 'salman': 1, 'salsa': 1, 'salt': 1, 'samantha': 2, 'same': 4, 'san': 2, 'sanctimony': 1, 'sanctioned': 1, 'sanctions': 8, 'sanctuary': 1, 'sanders': 7, 'sandwich': 1, 'sane': 1, 'santa': 1, 'sara': 1, 'sarah': 1, 'sat': 1, 'satire': 2, 'satirise': 1, 'saturday': 5, 'saudi': 4, 'saul': 1, 'savage': 2, 'savages': 1, 'save': 5, 'saved': 1, 'saving': 1, 'say': 13, 'sayers': 1, 'saying': 4, 'says': 165, 'sc': 1, 'scam': 2, 'scamming': 1, 'scandal': 4, 'scandals': 1, 'scaramucci': 8, 'scaramuccis': 1, 'scarborough': 1, 'scare': 2, 'scared': 1, 'scary': 2, 'scathing': 1, 'scenarios': 1, 'scepticism': 1, 'schedules': 1, 'school': 2, 'schoolboy': 1, 'schools': 2, 'schumer': 1, 'schwarzenegger': 1, 'science': 2, 'scientist': 1, 'scientists': 2, 'scissors': 1, 'scolds': 3, 'score': 1, 'scott': 4, 'scotus': 1, 'scoundrel': 1, 'scouts': 5, 'scramble': 1, 'scrambling': 1, 'scrapped': 1, 'scrapping': 1, 'scream': 1, 'screams': 1, 'screening': 1, 'screws': 1, 'script': 1, 'scrutiny': 1, 'scuttle': 1, 'scuttles': 1, 'se': 1, 'sea': 5, 'seal': 2, 'sean': 3, 'search': 1, 'seat': 1, 'sebastian': 2, 'sec': 1, 'second': 7, 'seconds': 1, 'secrecy': 1, 'secret': 9, 'secretary': 12, 'secretly': 1, 'sector': 2, 'security': 19, 'see': 11, 'seeing': 2, 'seek': 2, 'seeking': 3, 'seeks': 4, 'seen': 2, 'sees': 2, 'seguir': 1, 'seize': 1, 'seizes': 1, 'self': 3, 'sell': 2, 'sellout': 1, 'sells': 1, 'semen': 1, 'semite': 1, 'semitic': 2, 'semitism': 1, 'senate': 7, 'senator': 7, 'send': 4, 'sends': 2, 'senior': 1, 'sense': 1, 'sent': 1, 'sentiment': 1, 'series': 2, 'serious': 3, 'serve': 2, 'server': 3, 'serves': 1, 'service': 3, 'seselja': 1, 'sessions': 9, 'set': 8, 'setback': 2, 'sets': 2, 'setting': 1, 'settle': 1, 'settlements': 3, 'several': 1, 'severed': 1, 'sewer': 1, 'sex': 4, 'sexist': 1, 'sexual': 11, 'sexually': 3, 'sh': 1, 'shackle': 1, 'shady': 1, 'shake': 1, 'shaken': 1, 'shakes': 1, 'shakeup': 1, 'shaking': 3, 'shameful': 1, 'shameless': 2, 'shape': 1, 'shaped': 1, 'shapiro': 1, 'share': 4, 'shared': 1, 'shares': 1, 'sharing': 2, 'shark': 1, 'shattered': 1, 'shatters': 1, 'she': 11, 'sheriff': 2, 'sherrif': 1, 'shifted': 2, 'shifts': 1, 'shinzo': 1, 'shipwreck': 1, 'shirley': 1, 'shirt': 5, 'shirts': 1, 'shoaf': 1, 'shock': 9, 'shocked': 2, 'shocker': 4, 'shocking': 4, 'shocks': 6, 'shoes': 1, 'shoot': 1, 'shooter': 1, 'shooting': 4, 'short': 5, 'shorten': 1, 'shots': 1, 'should': 25, 'shouting': 1, 'shouts': 1, 'shove': 1, 'show': 12, 'showcase': 1, 'showdown': 1, 'showing': 1, 'showmanship': 1, 'shows': 10, 'shredded': 1, 'shreds': 1, 'shrugs': 1, 'shunned': 1, 'shut': 2, 'shuts': 1, 'sick': 6, 'sickest': 1, 'side': 1, 'sie': 1, 'sign': 5, 'signal': 1, 'signaling': 1, 'signatures': 1, 'significantly': 2, 'signs': 11, 'sil': 1, 'silent': 1, 'silicon': 1, 'similar': 1, 'similarities': 1, 'simpsons': 2, 'since': 4, 'sinks': 1, 'sisi': 2, 'sister': 1, 'site': 1, 'sitting': 4, 'situation': 2, 'six': 1, 'size': 1, 'sjws': 1, 'skeptics': 1, 'sketch': 1, 'skilled': 1, 'skills': 1, 'skin': 1, 'skip': 1, 'skipping': 1, 'skit': 1, 'sky': 2, 'slams': 11, 'slanders': 1, 'slapped': 1, 'slash': 2, 'slashes': 1, 'slattery': 2, 'slave': 2, 'sledgehammer': 1, 'slide': 1, 'slides': 1, 'sliding': 1, 'slim': 1, 'slip': 1, 'slovenia': 1, 'slurs': 1, 'slut': 1, 'smack': 1, 'smacked': 1, 'smacks': 1, 'smaka': 1, 'small': 1, 'smashed': 1, 'smear': 4, 'smiles': 1, 'smith': 1, 'snake': 1, 'snaps': 1, 'snl': 3, 'snowden': 2, 'snowflake': 1, 'snr': 1, 'snubs': 1, 'snuck': 1, 'so': 10, 'soaring': 1, 'social': 2, 'socialising': 1, 'sofort': 1, 'soften': 2, 'softens': 1, 'solar': 2, 'soldier': 1, 'soldiers': 3, 'solid': 1, 'solution': 3, 'some': 5, 'somebody': 1, 'someone': 1, 'something': 2, 'son': 6, 'song': 3, 'songs': 1, 'sonntagsfrage': 1, 'sons': 1, 'soon': 5, 'soros': 13, 'sorry': 1, 'sorts': 1, 'sought': 1, 'sound': 1, 'sounds': 3, 'source': 1, 'sources': 1, 'souriant': 1, 'south': 9, 'souza': 2, 'space': 2, 'spaces': 1, 'spain': 1, 'spanish': 1, 'spanking': 1, 'spare': 1, 'sparks': 4, 'spat': 2, 'speak': 3, 'speaker': 3, 'speaking': 1, 'speaks': 2, 'special': 6, 'speculation': 2, 'speech': 28, 'speeches': 2, 'spell': 2, 'spend': 1, 'spending': 7, 'spent': 1, 'spicer': 2, 'spies': 1, 'spikes': 1, 'spill': 1, 'spilled': 1, 'spin': 1, 'split': 3, 'spokesman': 1, 'spokesperson': 1, 'spokeswoman': 1, 'sponsored': 1, 'spontaneou': 1, 'sport': 1, 'spots': 2, 'spotted': 1, 'spray': 1, 'spreading': 1, 'spree': 1, 'spring': 1, 'springsteen': 2, 'spruik': 1, 'spurred': 1, 'spurs': 1, 'spy': 3, 'square': 1, 'ssy': 1, 'st': 7, 'stab': 1, 'stable': 1, 'stacked': 1, 'staff': 4, 'stage': 8, 'stake': 1, 'stakes': 1, 'stalemate': 1, 'stalled': 1, 'stamp': 1, 'stance': 3, 'stand': 4, 'standards': 1, 'standing': 1, 'stands': 1, 'star': 20, 'starbucks': 1, 'start': 4, 'started': 1, 'starts': 5, 'state': 16, 'statement': 3, 'states': 25, 'statesman': 2, 'station': 2, 'stations': 1, 'statist': 1, 'statistical': 1, 'statue': 1, 'statues': 1, 'staunch': 1, 'stay': 5, 'steal': 9, 'steer': 1, 'stein': 1, 'stem': 1, 'step': 1, 'stephanie': 1, 'stephen': 4, 'steps': 4, 'stereotyped': 1, 'steve': 10, 'steward': 1, 'stewart': 1, 'steyer': 1, 'stickers': 1, 'still': 7, 'stinks': 1, 'stir': 1, 'stirred': 1, 'stock': 2, 'stocks': 4, 'stole': 1, 'stone': 3, 'stop': 13, 'stopped': 1, 'stops': 1, 'store': 1, 'stories': 1, 'storm': 3, 'stormed': 1, 'storms': 1, 'story': 4, 'straight': 1, 'strange': 2, 'strategist': 5, 'strategy': 9, 'streep': 1, 'street': 15, 'streets': 3, 'stretched': 1, 'strike': 5, 'strips': 1, 'stroke': 1, 'strong': 2, 'stronger': 1, 'struggled': 1, 'struggles': 1, 'stuck': 1, 'student': 1, 'students': 4, 'stump': 1, 'stung': 1, 'stunned': 2, 'stunning': 3, 'stunt': 1, 'stupid': 1, 'su': 1, 'subpoena': 1, 'suburban': 1, 'succeed': 1, 'success': 1, 'successful': 1, 'successfully': 1, 'such': 1, 'suck': 1, 'suddenly': 1, 'sue': 5, 'sued': 2, 'suepennontwitte': 1, 'suffer': 1, 'suffered': 1, 'sugar': 1, 'suggest': 1, 'suggestion': 1, 'suggests': 2, 'suicide': 3, 'suing': 1, 'summer': 1, 'summit': 3, 'sums': 1, 'super': 1, 'superluna': 1, 'superpreditors': 1, 'support': 14, 'supported': 1, 'supporter': 23, 'supporters': 39, 'supporting': 4, 'supports': 3, 'suppression': 8, 'supremacist': 1, 'supremacists': 1, 'supremacy': 1, 'supreme': 10, 'sur': 1, 'sure': 1, 'surge': 1, 'surges': 1, 'surging': 2, 'surprise': 5, 'surprised': 1, 'surrogate': 2, 'surrounded': 1, 'survival': 1, 'survivor': 1, 'suspect': 3, 'suspected': 1, 'suspects': 1, 'suspends': 1, 'suspiciously': 1, 'sussman': 1, 'swamp': 4, 'sway': 1, 'sweden': 2, 'swedes': 1, 'sweep': 1, 'sweeps': 2, 'sweetheart': 1, 'sweets': 1, 'swing': 5, 'swinging': 1, 'swipe': 1, 'switch': 1, 'switched': 1, 'switching': 4, 'sword': 2, 'sworn': 1, 'sydney': 1, 'symbolism': 1, 'sympathises': 1, 'sympathy': 1, 'syria': 14, 'syrian': 2, 'syrians': 1, 'system': 9, 'table': 2, 'tabloid': 1, 'tacitly': 1, 'tackles': 1, 'tactic': 1, 'tactics': 2, 'taiwan': 5, 'taiwans': 1, 'take': 17, 'takei': 2, 'taken': 4, 'takeover': 2, 'takes': 16, 'taking': 5, 'tale': 1, 'talk': 13, 'talked': 1, 'talks': 17, 'tank': 4, 'tano': 1, 'tap': 1, 'tape': 5, 'tapper': 2, 'taps': 1, 'target': 3, 'targeting': 1, 'targets': 3, 'tasmania': 1, 'tasmanian': 1, 'tater': 1, 'tats': 1, 'tattooed': 1, 'taunts': 2, 'tax': 20, 'taxes': 6, 'tc': 1, 'teach': 2, 'teaching': 1, 'team': 12, 'tear': 1, 'tech': 1, 'technology': 1, 'ted': 1, 'teeth': 1, 'tel': 1, 'telephone': 1, 'television': 2, 'tell': 2, 'tells': 22, 'temperament': 1, 'temporary': 2, 'ten': 1, 'tense': 1, 'tensions': 3, 'tequila': 1, 'term': 2, 'terrible': 1, 'terrified': 1, 'terrifying': 2, 'terror': 3, 'terrorism': 4, 'terrorist': 3, 'terrorists': 1, 'terry': 1, 'tess': 1, 'test': 6, 'tested': 1, 'testify': 2, 'testimony': 2, 'tests': 3, 'texas': 14, 'text': 1, 'thailand': 1, 'than': 23, 'thank': 1, 'thanks': 5, 'thanksgiving': 2, 'that': 45, 'the': 416, 'their': 17, 'them': 7, 'then': 6, 'theories': 1, 'theory': 2, 'therapy': 1, 'there': 8, 'theresa': 1, 'these': 5, 'they': 30, 'thieves': 1, 'thing': 6, 'things': 7, 'think': 15, 'thinking': 2, 'thinks': 4, 'third': 3, 'this': 30, 'those': 2, 'thought': 2, 'thousands': 1, 'threat': 9, 'threaten': 1, 'threatened': 3, 'threatening': 1, 'threatens': 10, 'threats': 5, 'three': 9, 'throats': 1, 'thrones': 1, 'through': 3, 'throw': 1, 'thug': 5, 'thugs': 1, 'tie': 1, 'tied': 3, 'ties': 11, 'tiffany': 1, 'tighten': 1, 'tightens': 1, 'til': 1, 'tillerson': 6, 'tilt': 1, 'tim': 1, 'time': 18, 'times': 12, 'tiny': 1, 'tipp': 1, 'tips': 1, 'tirade': 3, 'tired': 2, 'to': 576, 'today': 6, 'together': 3, 'told': 5, 'tolerate': 2, 'tom': 1, 'tombstones': 1, 'tomi': 1, 'tone': 1, 'tony': 1, 'tonya': 1, 'too': 5, 'took': 4, 'tools': 3, 'top': 14, 'torched': 1, 'torn': 1, 'tossed': 1, 'tot': 1, 'total': 1, 'totally': 2, 'touch': 1, 'touches': 1, 'touching': 1, 'tough': 4, 'toujours': 1, 'tour': 6, 'tourism': 3, 'touting': 1, 'touts': 1, 'toward': 1, 'towards': 2, 'tower': 4, 'tpp': 12, 'tracking': 2, 'trade': 22, 'traders': 1, 'trades': 1, 'tradition': 4, 'traffic': 1, 'trafficking': 1, 'tragic': 1, 'train': 1, 'trans': 1, 'transcript': 2, 'transcripts': 1, 'transfer': 1, 'transfixed': 1, 'transgender': 10, 'transition': 6, 'translate': 1, 'trap': 2, 'trash': 1, 'trashed': 1, 'trashes': 1, 'travel': 41, 'travellers': 2, 'travis': 1, 'treason': 3, 'treated': 1, 'treatment': 2, 'tree': 2, 'trend': 1, 'trending': 1, 'trey': 1, 'trial': 1, 'trials': 1, 'tribulations': 1, 'tribute': 2, 'tricks': 1, 'tried': 2, 'tries': 2, 'trigger': 2, 'triggered': 1, 'trillion': 4, 'trip': 9, 'trolling': 1, 'trolls': 3, 'troops': 6, 'trouble': 3, 'troubled': 1, 'truck': 1, 'trucking': 1, 'trucks': 2, 'true': 5, 'trump': 2154, 'trumpcare': 1, 'trumpean': 1, 'trumped': 3, 'trumpet': 2, 'trumpf': 1, 'trumpflation': 1, 'trumpism': 1, 'trumpisms': 1, 'trumpkin': 1, 'trumpkins': 1, 'trumpland': 2, 'trumplandia': 1, 'trumplon': 1, 'trumpocalypse': 1, 'trumppledge': 1, 'trumpprotest': 1, 'trumps': 152, 'trust': 3, 'truth': 3, 'truthfully': 1, 'truths': 1, 'try': 4, 'trying': 8, 'tsunami': 1, 'tucker': 1, 'tuesday': 2, 'tuned': 2, 'tuning': 1, 'turk': 1, 'turks': 1, 'turmoil': 2, 'turn': 4, 'turnbull': 38, 'turnbulls': 2, 'turncoats': 1, 'turned': 1, 'turnout': 2, 'turns': 5, 'tussauds': 1, 'tv': 7, 'tweet': 13, 'tweeting': 1, 'tweets': 23, 'twice': 1, 'twist': 1, 'twitter': 18, 'two': 16, 'uber': 1, 'ucla': 2, 'uhlmann': 2, 'uk': 6, 'ukraine': 4, 'ukrainian': 1, 'ultimate': 4, 'ultimatum': 1, 'un': 22, 'unannounced': 1, 'unbelievable': 1, 'uncertain': 1, 'uncertainty': 3, 'uncharted': 1, 'unconfirmed': 1, 'uncovered': 1, 'uncovers': 2, 'under': 14, 'undermine': 1, 'understand': 1, 'understanding': 1, 'underway': 1, 'undocumented': 2, 'unease': 1, 'unfair': 3, 'unfairly': 1, 'unfavorability': 1, 'unfolds': 1, 'unfortunately': 1, 'uni': 1, 'unimagineable': 1, 'union': 1, 'unique': 1, 'united': 9, 'unity': 3, 'universe': 1, 'university': 2, 'univision': 1, 'unknowable': 1, 'unlawfully': 1, 'unleash': 1, 'unleashes': 2, 'unmoved': 1, 'unpopular': 1, 'unpredictability': 1, 'unrest': 2, 'uns': 1, 'untruthful': 1, 'unveil': 1, 'unveiling': 1, 'unwilling': 1, 'unwind': 1, 'up': 41, 'update': 2, 'updated': 1, 'updates': 1, 'upend': 1, 'uprising': 1, 'upset': 1, 'upsets': 1, 'urban': 1, 'urge': 4, 'urged': 2, 'urgent': 1, 'urges': 8, 'us': 184, 'usa': 3, 'use': 5, 'used': 2, 'uses': 6, 'usher': 1, 'using': 3, 'usps': 1, 'usyd': 1, 'utah': 2, 'vacation': 1, 'vaccines': 1, 'valley': 1, 'van': 1, 'vandal': 1, 'vandalised': 2, 'vandalized': 2, 'vandals': 1, 'vanity': 1, 'varghese': 1, 'vatican': 2, 've': 4, 'vegas': 4, 'vehicle': 1, 'veiled': 1, 'venezuela': 2, 'verb': 1, 'verrender': 1, 'versa': 1, 'versus': 1, 'vertical': 1, 'very': 8, 'vet': 1, 'veterans': 4, 'vetting': 1, 'via': 1, 'vice': 3, 'vicious': 2, 'viciously': 1, 'victim': 3, 'victimization': 1, 'victimizing': 1, 'victims': 1, 'victories': 1, 'victory': 48, 'vicu': 1, 'vid': 1, 'video': 18, 'videos': 1, 'vietnamese': 1, 'view': 2, 'views': 1, 'vigil': 1, 'vigilant': 1, 'vindicated': 1, 'violating': 2, 'violence': 4, 'violent': 6, 'violently': 1, 'viral': 4, 'virgin': 1, 'virginia': 1, 'virulent': 1, 'visa': 8, 'visibility': 1, 'vision': 5, 'visit': 12, 'visits': 9, 'vist': 1, 'vital': 1, 'viviendo': 1, 'vladimir': 6, 'voice': 2, 'voids': 1, 'voldemort': 2, 'volk': 1, 'volunteer': 1, 'volunteers': 1, 'vomit': 1, 'vomiting': 1, 'vorbild': 1, 'vorhaben': 1, 'vot': 1, 'vote': 40, 'voted': 4, 'voter': 26, 'voters': 21, 'votes': 10, 'voting': 25, 'vow': 1, 'vows': 11, 'vp': 2, 'vs': 8, 'vulgar': 5, 'wa': 1, 'wadah': 1, 'wade': 1, 'wades': 1, 'wait': 1, 'wake': 4, 'walk': 10, 'walking': 1, 'wall': 46, 'walls': 3, 'walsh': 2, 'want': 5, 'wanted': 3, 'wants': 15, 'war': 27, 'warm': 1, 'warmbiers': 1, 'warmongers': 1, 'warn': 1, 'warned': 2, 'warning': 7, 'warns': 22, 'warren': 1, 'wars': 1, 'was': 25, 'washington': 9, 'wasnt': 3, 'waste': 1, 'watch': 26, 'watches': 1, 'watching': 1, 'waterboard': 1, 'waterboarding': 1, 'watergate': 2, 'waters': 2, 'wave': 1, 'waves': 1, 'waxworks': 1, 'way': 8, 'wayne': 1, 'ways': 3, 'we': 25, 'weak': 2, 'weaken': 1, 'weakness': 1, 'weapons': 5, 'wear': 1, 'wearing': 4, 'weather': 1, 'website': 3, 'wedge': 1, 'week': 11, 'weekend': 1, 'weekly': 2, 'weeks': 3, 'wei': 1, 'weigh': 4, 'weighs': 1, 'weiner': 5, 'weinstein': 2, 'welcome': 3, 'welcomed': 2, 'welcomes': 2, 'weld': 1, 'well': 2, 'wenesday': 1, 'went': 1, 'were': 9, 'west': 5, 'western': 4, 'wh': 1, 'what': 69, 'whats': 5, 'whatve': 1, 'when': 15, 'where': 4, 'whether': 4, 'while': 7, 'whine': 1, 'whines': 1, 'whining': 2, 'whispered': 1, 'whistle': 1, 'whistleblower': 1, 'white': 52, 'whiteboard': 1, 'whitehouse': 1, 'whiteness': 1, 'whitson': 1, 'who': 32, 'whoever': 1, 'whole': 1, 'whos': 1, 'whose': 2, 'why': 43, 'wide': 2, 'widow': 5, 'wielding': 2, 'wife': 3, 'wikileaks': 5, 'wil': 1, 'will': 114, 'williams': 2, 'willing': 1, 'win': 55, 'wind': 1, 'wing': 3, 'winner': 4, 'winning': 9, 'wins': 25, 'winter': 1, 'wipes': 1, 'wird': 1, 'wire': 11, 'wiretap': 1, 'wiretapping': 2, 'wish': 1, 'witch': 1, 'witchcraft': 1, 'with': 144, 'withdrawal': 3, 'withdrawing': 4, 'withdraws': 1, 'without': 3, 'witnesses': 1, 'wolpe': 1, 'woman': 11, 'women': 16, 'womens': 2, 'won': 12, 'wont': 11, 'word': 4, 'words': 5, 'wore': 1, 'work': 6, 'worked': 1, 'worker': 2, 'workers': 3, 'working': 4, 'world': 37, 'worldwide': 2, 'worried': 1, 'worries': 1, 'worry': 1, 'worrying': 2, 'worse': 5, 'worst': 4, 'worthy': 1, 'would': 21, 'wouldve': 1, 'wow': 3, 'wrap': 3, 'wray': 1, 'wreak': 1, 'wreck': 1, 'write': 1, 'writers': 7, 'writes': 2, 'wrong': 5, 'wrote': 1, 'ww3': 1, 'xi': 9, 'xiv': 1, 'yard': 1, 'yates': 1, 'year': 14, 'yearns': 1, 'years': 7, 'yell': 1, 'yellen': 3, 'yet': 3, 'yoko': 1, 'york': 8, 'you': 50, 'young': 3, 'your': 7, 'yourself': 1, 'yr': 1, 'yuan': 1, 'yuuuge': 1, 'zambia': 1, 'zed': 1, 'zenith': 1, 'zervos': 1, 'zieht': 1, 'zion': 1, 'zionist': 3, 'zoe': 7, 'zombies': 1, 'zone': 1, 'zones': 1, 'zu': 1, 'zuesse': 3}\n"
          ]
        }
      ]
    },
    {
      "cell_type": "code",
      "metadata": {
        "colab": {
          "base_uri": "https://localhost:8080/"
        },
        "id": "Q4z5KR1nYAMh",
        "outputId": "a7425200-3516-4126-a7a0-1d7bbc648a86"
      },
      "source": [
        "cv"
      ],
      "execution_count": 102,
      "outputs": [
        {
          "output_type": "execute_result",
          "data": {
            "text/plain": [
              "<2286x4776 sparse matrix of type '<class 'numpy.int64'>'\n",
              "\twith 21896 stored elements in Compressed Sparse Row format>"
            ]
          },
          "metadata": {},
          "execution_count": 102
        }
      ]
    },
    {
      "cell_type": "code",
      "metadata": {
        "id": "_8d-kzxOZf2K"
      },
      "source": [
        "num_train_real = len(real_news_train_lines)\n",
        "num_train_fake = len(fake_news_train_lines)\n",
        "# create label vectors for training data\n",
        "y_train_real = np.ones(num_train_real)\n",
        "y_train_fake = np.zeros(num_train_fake)\n",
        "y_train = np.concatenate((y_train_real, y_train_fake), axis=0)"
      ],
      "execution_count": 103,
      "outputs": []
    },
    {
      "cell_type": "code",
      "metadata": {
        "id": "a3xaKztlaCls"
      },
      "source": [
        "train_data_real = vect.transform(real_news_train_lines)\n",
        "train_data_fake = vect.transform(fake_news_train_lines)\n",
        "train_data = sp.vstack((train_data_real, train_data_fake))"
      ],
      "execution_count": 104,
      "outputs": []
    },
    {
      "cell_type": "code",
      "metadata": {
        "colab": {
          "base_uri": "https://localhost:8080/"
        },
        "id": "xUaZmwEkaWik",
        "outputId": "d8efd792-2fa2-4280-e757-d2c4b7610b4a"
      },
      "source": [
        "train_data"
      ],
      "execution_count": 105,
      "outputs": [
        {
          "output_type": "execute_result",
          "data": {
            "text/plain": [
              "<2286x4776 sparse matrix of type '<class 'numpy.int64'>'\n",
              "\twith 21896 stored elements in Compressed Sparse Row format>"
            ]
          },
          "metadata": {},
          "execution_count": 105
        }
      ]
    },
    {
      "cell_type": "code",
      "metadata": {
        "id": "0-84RmZTakgv"
      },
      "source": [
        "clf = LogisticRegression(random_state=0, penalty='l1', solver='liblinear')"
      ],
      "execution_count": 106,
      "outputs": []
    },
    {
      "cell_type": "code",
      "metadata": {
        "colab": {
          "base_uri": "https://localhost:8080/",
          "height": 75
        },
        "id": "IEjAobOnc_4B",
        "outputId": "72b8a3d9-cadf-4276-9a39-2532bf0b5550"
      },
      "source": [
        "clf.fit(X=train_data, y=y_train)"
      ],
      "execution_count": 107,
      "outputs": [
        {
          "output_type": "execute_result",
          "data": {
            "text/plain": [
              "LogisticRegression(penalty='l1', random_state=0, solver='liblinear')"
            ],
            "text/html": [
              "<style>#sk-container-id-9 {color: black;background-color: white;}#sk-container-id-9 pre{padding: 0;}#sk-container-id-9 div.sk-toggleable {background-color: white;}#sk-container-id-9 label.sk-toggleable__label {cursor: pointer;display: block;width: 100%;margin-bottom: 0;padding: 0.3em;box-sizing: border-box;text-align: center;}#sk-container-id-9 label.sk-toggleable__label-arrow:before {content: \"▸\";float: left;margin-right: 0.25em;color: #696969;}#sk-container-id-9 label.sk-toggleable__label-arrow:hover:before {color: black;}#sk-container-id-9 div.sk-estimator:hover label.sk-toggleable__label-arrow:before {color: black;}#sk-container-id-9 div.sk-toggleable__content {max-height: 0;max-width: 0;overflow: hidden;text-align: left;background-color: #f0f8ff;}#sk-container-id-9 div.sk-toggleable__content pre {margin: 0.2em;color: black;border-radius: 0.25em;background-color: #f0f8ff;}#sk-container-id-9 input.sk-toggleable__control:checked~div.sk-toggleable__content {max-height: 200px;max-width: 100%;overflow: auto;}#sk-container-id-9 input.sk-toggleable__control:checked~label.sk-toggleable__label-arrow:before {content: \"▾\";}#sk-container-id-9 div.sk-estimator input.sk-toggleable__control:checked~label.sk-toggleable__label {background-color: #d4ebff;}#sk-container-id-9 div.sk-label input.sk-toggleable__control:checked~label.sk-toggleable__label {background-color: #d4ebff;}#sk-container-id-9 input.sk-hidden--visually {border: 0;clip: rect(1px 1px 1px 1px);clip: rect(1px, 1px, 1px, 1px);height: 1px;margin: -1px;overflow: hidden;padding: 0;position: absolute;width: 1px;}#sk-container-id-9 div.sk-estimator {font-family: monospace;background-color: #f0f8ff;border: 1px dotted black;border-radius: 0.25em;box-sizing: border-box;margin-bottom: 0.5em;}#sk-container-id-9 div.sk-estimator:hover {background-color: #d4ebff;}#sk-container-id-9 div.sk-parallel-item::after {content: \"\";width: 100%;border-bottom: 1px solid gray;flex-grow: 1;}#sk-container-id-9 div.sk-label:hover label.sk-toggleable__label {background-color: #d4ebff;}#sk-container-id-9 div.sk-serial::before {content: \"\";position: absolute;border-left: 1px solid gray;box-sizing: border-box;top: 0;bottom: 0;left: 50%;z-index: 0;}#sk-container-id-9 div.sk-serial {display: flex;flex-direction: column;align-items: center;background-color: white;padding-right: 0.2em;padding-left: 0.2em;position: relative;}#sk-container-id-9 div.sk-item {position: relative;z-index: 1;}#sk-container-id-9 div.sk-parallel {display: flex;align-items: stretch;justify-content: center;background-color: white;position: relative;}#sk-container-id-9 div.sk-item::before, #sk-container-id-9 div.sk-parallel-item::before {content: \"\";position: absolute;border-left: 1px solid gray;box-sizing: border-box;top: 0;bottom: 0;left: 50%;z-index: -1;}#sk-container-id-9 div.sk-parallel-item {display: flex;flex-direction: column;z-index: 1;position: relative;background-color: white;}#sk-container-id-9 div.sk-parallel-item:first-child::after {align-self: flex-end;width: 50%;}#sk-container-id-9 div.sk-parallel-item:last-child::after {align-self: flex-start;width: 50%;}#sk-container-id-9 div.sk-parallel-item:only-child::after {width: 0;}#sk-container-id-9 div.sk-dashed-wrapped {border: 1px dashed gray;margin: 0 0.4em 0.5em 0.4em;box-sizing: border-box;padding-bottom: 0.4em;background-color: white;}#sk-container-id-9 div.sk-label label {font-family: monospace;font-weight: bold;display: inline-block;line-height: 1.2em;}#sk-container-id-9 div.sk-label-container {text-align: center;}#sk-container-id-9 div.sk-container {/* jupyter's `normalize.less` sets `[hidden] { display: none; }` but bootstrap.min.css set `[hidden] { display: none !important; }` so we also need the `!important` here to be able to override the default hidden behavior on the sphinx rendered scikit-learn.org. See: https://github.com/scikit-learn/scikit-learn/issues/21755 */display: inline-block !important;position: relative;}#sk-container-id-9 div.sk-text-repr-fallback {display: none;}</style><div id=\"sk-container-id-9\" class=\"sk-top-container\"><div class=\"sk-text-repr-fallback\"><pre>LogisticRegression(penalty=&#x27;l1&#x27;, random_state=0, solver=&#x27;liblinear&#x27;)</pre><b>In a Jupyter environment, please rerun this cell to show the HTML representation or trust the notebook. <br />On GitHub, the HTML representation is unable to render, please try loading this page with nbviewer.org.</b></div><div class=\"sk-container\" hidden><div class=\"sk-item\"><div class=\"sk-estimator sk-toggleable\"><input class=\"sk-toggleable__control sk-hidden--visually\" id=\"sk-estimator-id-9\" type=\"checkbox\" checked><label for=\"sk-estimator-id-9\" class=\"sk-toggleable__label sk-toggleable__label-arrow\">LogisticRegression</label><div class=\"sk-toggleable__content\"><pre>LogisticRegression(penalty=&#x27;l1&#x27;, random_state=0, solver=&#x27;liblinear&#x27;)</pre></div></div></div></div></div>"
            ]
          },
          "metadata": {},
          "execution_count": 107
        }
      ]
    },
    {
      "cell_type": "markdown",
      "source": [],
      "metadata": {
        "id": "Wj7m6vGIST9d"
      }
    },
    {
      "cell_type": "code",
      "metadata": {
        "colab": {
          "base_uri": "https://localhost:8080/"
        },
        "id": "sH4RPlp4dqQN",
        "outputId": "13877df3-c388-4df3-c554-cccdaa603ea6"
      },
      "source": [
        "coeff_l1 = clf.coef_\n",
        "coeff_l1"
      ],
      "execution_count": 108,
      "outputs": [
        {
          "output_type": "execute_result",
          "data": {
            "text/plain": [
              "array([[ 0.        , -0.8685531 , -2.44540044, ...,  0.        ,\n",
              "         0.        ,  0.        ]])"
            ]
          },
          "metadata": {},
          "execution_count": 108
        }
      ]
    },
    {
      "cell_type": "code",
      "metadata": {
        "colab": {
          "base_uri": "https://localhost:8080/"
        },
        "id": "FT_5O0x5fRpn",
        "outputId": "339f8336-eb94-4558-a601-976af65240f5"
      },
      "source": [
        "clf.coef_.size"
      ],
      "execution_count": 109,
      "outputs": [
        {
          "output_type": "execute_result",
          "data": {
            "text/plain": [
              "4776"
            ]
          },
          "metadata": {},
          "execution_count": 109
        }
      ]
    },
    {
      "cell_type": "code",
      "metadata": {
        "id": "5T4GUaS8d4w0"
      },
      "source": [
        "clf_l2 = LogisticRegression(random_state=0, penalty='l2', solver='liblinear')"
      ],
      "execution_count": 110,
      "outputs": []
    },
    {
      "cell_type": "code",
      "metadata": {
        "colab": {
          "base_uri": "https://localhost:8080/",
          "height": 75
        },
        "id": "ZEeb6GFDeX8F",
        "outputId": "431aeed8-b363-4e46-ed67-dedb97b865f5"
      },
      "source": [
        "clf_l2.fit(X=train_data, y=y_train)"
      ],
      "execution_count": 111,
      "outputs": [
        {
          "output_type": "execute_result",
          "data": {
            "text/plain": [
              "LogisticRegression(random_state=0, solver='liblinear')"
            ],
            "text/html": [
              "<style>#sk-container-id-10 {color: black;background-color: white;}#sk-container-id-10 pre{padding: 0;}#sk-container-id-10 div.sk-toggleable {background-color: white;}#sk-container-id-10 label.sk-toggleable__label {cursor: pointer;display: block;width: 100%;margin-bottom: 0;padding: 0.3em;box-sizing: border-box;text-align: center;}#sk-container-id-10 label.sk-toggleable__label-arrow:before {content: \"▸\";float: left;margin-right: 0.25em;color: #696969;}#sk-container-id-10 label.sk-toggleable__label-arrow:hover:before {color: black;}#sk-container-id-10 div.sk-estimator:hover label.sk-toggleable__label-arrow:before {color: black;}#sk-container-id-10 div.sk-toggleable__content {max-height: 0;max-width: 0;overflow: hidden;text-align: left;background-color: #f0f8ff;}#sk-container-id-10 div.sk-toggleable__content pre {margin: 0.2em;color: black;border-radius: 0.25em;background-color: #f0f8ff;}#sk-container-id-10 input.sk-toggleable__control:checked~div.sk-toggleable__content {max-height: 200px;max-width: 100%;overflow: auto;}#sk-container-id-10 input.sk-toggleable__control:checked~label.sk-toggleable__label-arrow:before {content: \"▾\";}#sk-container-id-10 div.sk-estimator input.sk-toggleable__control:checked~label.sk-toggleable__label {background-color: #d4ebff;}#sk-container-id-10 div.sk-label input.sk-toggleable__control:checked~label.sk-toggleable__label {background-color: #d4ebff;}#sk-container-id-10 input.sk-hidden--visually {border: 0;clip: rect(1px 1px 1px 1px);clip: rect(1px, 1px, 1px, 1px);height: 1px;margin: -1px;overflow: hidden;padding: 0;position: absolute;width: 1px;}#sk-container-id-10 div.sk-estimator {font-family: monospace;background-color: #f0f8ff;border: 1px dotted black;border-radius: 0.25em;box-sizing: border-box;margin-bottom: 0.5em;}#sk-container-id-10 div.sk-estimator:hover {background-color: #d4ebff;}#sk-container-id-10 div.sk-parallel-item::after {content: \"\";width: 100%;border-bottom: 1px solid gray;flex-grow: 1;}#sk-container-id-10 div.sk-label:hover label.sk-toggleable__label {background-color: #d4ebff;}#sk-container-id-10 div.sk-serial::before {content: \"\";position: absolute;border-left: 1px solid gray;box-sizing: border-box;top: 0;bottom: 0;left: 50%;z-index: 0;}#sk-container-id-10 div.sk-serial {display: flex;flex-direction: column;align-items: center;background-color: white;padding-right: 0.2em;padding-left: 0.2em;position: relative;}#sk-container-id-10 div.sk-item {position: relative;z-index: 1;}#sk-container-id-10 div.sk-parallel {display: flex;align-items: stretch;justify-content: center;background-color: white;position: relative;}#sk-container-id-10 div.sk-item::before, #sk-container-id-10 div.sk-parallel-item::before {content: \"\";position: absolute;border-left: 1px solid gray;box-sizing: border-box;top: 0;bottom: 0;left: 50%;z-index: -1;}#sk-container-id-10 div.sk-parallel-item {display: flex;flex-direction: column;z-index: 1;position: relative;background-color: white;}#sk-container-id-10 div.sk-parallel-item:first-child::after {align-self: flex-end;width: 50%;}#sk-container-id-10 div.sk-parallel-item:last-child::after {align-self: flex-start;width: 50%;}#sk-container-id-10 div.sk-parallel-item:only-child::after {width: 0;}#sk-container-id-10 div.sk-dashed-wrapped {border: 1px dashed gray;margin: 0 0.4em 0.5em 0.4em;box-sizing: border-box;padding-bottom: 0.4em;background-color: white;}#sk-container-id-10 div.sk-label label {font-family: monospace;font-weight: bold;display: inline-block;line-height: 1.2em;}#sk-container-id-10 div.sk-label-container {text-align: center;}#sk-container-id-10 div.sk-container {/* jupyter's `normalize.less` sets `[hidden] { display: none; }` but bootstrap.min.css set `[hidden] { display: none !important; }` so we also need the `!important` here to be able to override the default hidden behavior on the sphinx rendered scikit-learn.org. See: https://github.com/scikit-learn/scikit-learn/issues/21755 */display: inline-block !important;position: relative;}#sk-container-id-10 div.sk-text-repr-fallback {display: none;}</style><div id=\"sk-container-id-10\" class=\"sk-top-container\"><div class=\"sk-text-repr-fallback\"><pre>LogisticRegression(random_state=0, solver=&#x27;liblinear&#x27;)</pre><b>In a Jupyter environment, please rerun this cell to show the HTML representation or trust the notebook. <br />On GitHub, the HTML representation is unable to render, please try loading this page with nbviewer.org.</b></div><div class=\"sk-container\" hidden><div class=\"sk-item\"><div class=\"sk-estimator sk-toggleable\"><input class=\"sk-toggleable__control sk-hidden--visually\" id=\"sk-estimator-id-10\" type=\"checkbox\" checked><label for=\"sk-estimator-id-10\" class=\"sk-toggleable__label sk-toggleable__label-arrow\">LogisticRegression</label><div class=\"sk-toggleable__content\"><pre>LogisticRegression(random_state=0, solver=&#x27;liblinear&#x27;)</pre></div></div></div></div></div>"
            ]
          },
          "metadata": {},
          "execution_count": 111
        }
      ]
    },
    {
      "cell_type": "code",
      "metadata": {
        "colab": {
          "base_uri": "https://localhost:8080/"
        },
        "id": "HuFpE_LaefrK",
        "outputId": "0f1fa5b8-27ad-46a8-ee85-3e4d6ceaea76"
      },
      "source": [
        "coeff_l2 = clf_l2.coef_\n",
        "coeff_l2"
      ],
      "execution_count": 112,
      "outputs": [
        {
          "output_type": "execute_result",
          "data": {
            "text/plain": [
              "array([[-0.09543424, -0.74532981, -1.19325418, ...,  0.03614307,\n",
              "        -0.21448325, -0.29216763]])"
            ]
          },
          "metadata": {},
          "execution_count": 112
        }
      ]
    },
    {
      "cell_type": "code",
      "metadata": {
        "colab": {
          "base_uri": "https://localhost:8080/"
        },
        "id": "hu2zNNjKfuuB",
        "outputId": "46198df5-8659-4935-940a-87c25fbf413b"
      },
      "source": [
        "!pip install eli5"
      ],
      "execution_count": 91,
      "outputs": [
        {
          "output_type": "stream",
          "name": "stdout",
          "text": [
            "Collecting eli5\n",
            "  Downloading eli5-0.13.0.tar.gz (216 kB)\n",
            "\u001b[?25l     \u001b[90m━━━━━━━━━━━━━━━━━━━━━━━━━━━━━━━━━━━━━━━━\u001b[0m \u001b[32m0.0/216.2 kB\u001b[0m \u001b[31m?\u001b[0m eta \u001b[36m-:--:--\u001b[0m\r\u001b[2K     \u001b[91m━━━━━━━━━━━━━━━━━━━━━━━━━━━━━━━━\u001b[0m\u001b[90m╺\u001b[0m\u001b[90m━━━━━━━\u001b[0m \u001b[32m174.1/216.2 kB\u001b[0m \u001b[31m5.1 MB/s\u001b[0m eta \u001b[36m0:00:01\u001b[0m\r\u001b[2K     \u001b[90m━━━━━━━━━━━━━━━━━━━━━━━━━━━━━━━━━━━━━━━━\u001b[0m \u001b[32m216.2/216.2 kB\u001b[0m \u001b[31m4.8 MB/s\u001b[0m eta \u001b[36m0:00:00\u001b[0m\n",
            "\u001b[?25h  Preparing metadata (setup.py) ... \u001b[?25l\u001b[?25hdone\n",
            "Requirement already satisfied: attrs>17.1.0 in /usr/local/lib/python3.10/dist-packages (from eli5) (23.1.0)\n",
            "Requirement already satisfied: jinja2>=3.0.0 in /usr/local/lib/python3.10/dist-packages (from eli5) (3.1.2)\n",
            "Requirement already satisfied: numpy>=1.9.0 in /usr/local/lib/python3.10/dist-packages (from eli5) (1.23.5)\n",
            "Requirement already satisfied: scipy in /usr/local/lib/python3.10/dist-packages (from eli5) (1.11.3)\n",
            "Requirement already satisfied: six in /usr/local/lib/python3.10/dist-packages (from eli5) (1.16.0)\n",
            "Requirement already satisfied: scikit-learn>=0.20 in /usr/local/lib/python3.10/dist-packages (from eli5) (1.2.2)\n",
            "Requirement already satisfied: graphviz in /usr/local/lib/python3.10/dist-packages (from eli5) (0.20.1)\n",
            "Requirement already satisfied: tabulate>=0.7.7 in /usr/local/lib/python3.10/dist-packages (from eli5) (0.9.0)\n",
            "Requirement already satisfied: MarkupSafe>=2.0 in /usr/local/lib/python3.10/dist-packages (from jinja2>=3.0.0->eli5) (2.1.3)\n",
            "Requirement already satisfied: joblib>=1.1.1 in /usr/local/lib/python3.10/dist-packages (from scikit-learn>=0.20->eli5) (1.3.2)\n",
            "Requirement already satisfied: threadpoolctl>=2.0.0 in /usr/local/lib/python3.10/dist-packages (from scikit-learn>=0.20->eli5) (3.2.0)\n",
            "Building wheels for collected packages: eli5\n",
            "  Building wheel for eli5 (setup.py) ... \u001b[?25l\u001b[?25hdone\n",
            "  Created wheel for eli5: filename=eli5-0.13.0-py2.py3-none-any.whl size=107719 sha256=ac77ff7787ff6fbe842b8a9c6dc5b47e253459a9d669ddf0eb1126df2392100e\n",
            "  Stored in directory: /root/.cache/pip/wheels/b8/58/ef/2cf4c306898c2338d51540e0922c8e0d6028e07007085c0004\n",
            "Successfully built eli5\n",
            "Installing collected packages: eli5\n",
            "Successfully installed eli5-0.13.0\n"
          ]
        }
      ]
    },
    {
      "cell_type": "code",
      "metadata": {
        "colab": {
          "base_uri": "https://localhost:8080/",
          "height": 993
        },
        "id": "d_aDT4kWf0KX",
        "outputId": "0b03396c-c1dc-40ca-8151-be163301959e"
      },
      "source": [
        "from eli5 import show_weights\n",
        "show_weights(clf, feature_names=vect.get_feature_names_out(),top=50)"
      ],
      "execution_count": 113,
      "outputs": [
        {
          "output_type": "execute_result",
          "data": {
            "text/plain": [
              "<IPython.core.display.HTML object>"
            ],
            "text/html": [
              "\n",
              "    <style>\n",
              "    table.eli5-weights tr:hover {\n",
              "        filter: brightness(85%);\n",
              "    }\n",
              "</style>\n",
              "\n",
              "\n",
              "\n",
              "    \n",
              "\n",
              "    \n",
              "\n",
              "    \n",
              "\n",
              "    \n",
              "\n",
              "    \n",
              "\n",
              "    \n",
              "\n",
              "\n",
              "    \n",
              "\n",
              "    \n",
              "\n",
              "    \n",
              "\n",
              "    \n",
              "        \n",
              "\n",
              "    \n",
              "\n",
              "        \n",
              "            \n",
              "                \n",
              "                \n",
              "    \n",
              "        <p style=\"margin-bottom: 0.5em; margin-top: 0em\">\n",
              "            <b>\n",
              "    \n",
              "        y=1.0\n",
              "    \n",
              "</b>\n",
              "\n",
              "top features\n",
              "        </p>\n",
              "    \n",
              "    <table class=\"eli5-weights\"\n",
              "           style=\"border-collapse: collapse; border: none; margin-top: 0em; table-layout: auto; margin-bottom: 2em;\">\n",
              "        <thead>\n",
              "        <tr style=\"border: none;\">\n",
              "            \n",
              "                <th style=\"padding: 0 1em 0 0.5em; text-align: right; border: none;\" title=\"Feature weights. Note that weights do not account for feature value scales, so if feature values have different scales, features with highest weights might not be the most important.\">\n",
              "                    Weight<sup>?</sup>\n",
              "                </th>\n",
              "            \n",
              "            <th style=\"padding: 0 0.5em 0 0.5em; text-align: left; border: none;\">Feature</th>\n",
              "            \n",
              "        </tr>\n",
              "        </thead>\n",
              "        <tbody>\n",
              "        \n",
              "            <tr style=\"background-color: hsl(120, 100.00%, 83.06%); border: none;\">\n",
              "    <td style=\"padding: 0 1em 0 0.5em; text-align: right; border: none;\">\n",
              "        +2.418\n",
              "    </td>\n",
              "    <td style=\"padding: 0 0.5em 0 0.5em; text-align: left; border: none;\">\n",
              "        australia\n",
              "    </td>\n",
              "    \n",
              "</tr>\n",
              "        \n",
              "            <tr style=\"background-color: hsl(120, 100.00%, 83.55%); border: none;\">\n",
              "    <td style=\"padding: 0 1em 0 0.5em; text-align: right; border: none;\">\n",
              "        +2.320\n",
              "    </td>\n",
              "    <td style=\"padding: 0 0.5em 0 0.5em; text-align: left; border: none;\">\n",
              "        &lt;BIAS&gt;\n",
              "    </td>\n",
              "    \n",
              "</tr>\n",
              "        \n",
              "            <tr style=\"background-color: hsl(120, 100.00%, 83.65%); border: none;\">\n",
              "    <td style=\"padding: 0 1em 0 0.5em; text-align: right; border: none;\">\n",
              "        +2.298\n",
              "    </td>\n",
              "    <td style=\"padding: 0 0.5em 0 0.5em; text-align: left; border: none;\">\n",
              "        trumps\n",
              "    </td>\n",
              "    \n",
              "</tr>\n",
              "        \n",
              "            <tr style=\"background-color: hsl(120, 100.00%, 84.47%); border: none;\">\n",
              "    <td style=\"padding: 0 1em 0 0.5em; text-align: right; border: none;\">\n",
              "        +2.137\n",
              "    </td>\n",
              "    <td style=\"padding: 0 0.5em 0 0.5em; text-align: left; border: none;\">\n",
              "        accept\n",
              "    </td>\n",
              "    \n",
              "</tr>\n",
              "        \n",
              "            <tr style=\"background-color: hsl(120, 100.00%, 85.33%); border: none;\">\n",
              "    <td style=\"padding: 0 1em 0 0.5em; text-align: right; border: none;\">\n",
              "        +1.968\n",
              "    </td>\n",
              "    <td style=\"padding: 0 0.5em 0 0.5em; text-align: left; border: none;\">\n",
              "        turnbull\n",
              "    </td>\n",
              "    \n",
              "</tr>\n",
              "        \n",
              "            <tr style=\"background-color: hsl(120, 100.00%, 86.46%); border: none;\">\n",
              "    <td style=\"padding: 0 1em 0 0.5em; text-align: right; border: none;\">\n",
              "        +1.756\n",
              "    </td>\n",
              "    <td style=\"padding: 0 0.5em 0 0.5em; text-align: left; border: none;\">\n",
              "        climate\n",
              "    </td>\n",
              "    \n",
              "</tr>\n",
              "        \n",
              "            <tr style=\"background-color: hsl(120, 100.00%, 87.82%); border: none;\">\n",
              "    <td style=\"padding: 0 1em 0 0.5em; text-align: right; border: none;\">\n",
              "        +1.509\n",
              "    </td>\n",
              "    <td style=\"padding: 0 0.5em 0 0.5em; text-align: left; border: none;\">\n",
              "        korea\n",
              "    </td>\n",
              "    \n",
              "</tr>\n",
              "        \n",
              "            <tr style=\"background-color: hsl(120, 100.00%, 87.96%); border: none;\">\n",
              "    <td style=\"padding: 0 1em 0 0.5em; text-align: right; border: none;\">\n",
              "        +1.485\n",
              "    </td>\n",
              "    <td style=\"padding: 0 0.5em 0 0.5em; text-align: left; border: none;\">\n",
              "        says\n",
              "    </td>\n",
              "    \n",
              "</tr>\n",
              "        \n",
              "            <tr style=\"background-color: hsl(120, 100.00%, 88.22%); border: none;\">\n",
              "    <td style=\"padding: 0 1em 0 0.5em; text-align: right; border: none;\">\n",
              "        +1.439\n",
              "    </td>\n",
              "    <td style=\"padding: 0 0.5em 0 0.5em; text-align: left; border: none;\">\n",
              "        ban\n",
              "    </td>\n",
              "    \n",
              "</tr>\n",
              "        \n",
              "            <tr style=\"background-color: hsl(120, 100.00%, 88.78%); border: none;\">\n",
              "    <td style=\"padding: 0 1em 0 0.5em; text-align: right; border: none;\">\n",
              "        +1.342\n",
              "    </td>\n",
              "    <td style=\"padding: 0 0.5em 0 0.5em; text-align: left; border: none;\">\n",
              "        scaramucci\n",
              "    </td>\n",
              "    \n",
              "</tr>\n",
              "        \n",
              "        \n",
              "            <tr style=\"background-color: hsl(120, 100.00%, 88.78%); border: none;\">\n",
              "                <td colspan=\"2\" style=\"padding: 0 0.5em 0 0.5em; text-align: center; border: none; white-space: nowrap;\">\n",
              "                    <i>&hellip; 99 more positive &hellip;</i>\n",
              "                </td>\n",
              "            </tr>\n",
              "        \n",
              "\n",
              "        \n",
              "            <tr style=\"background-color: hsl(0, 100.00%, 89.04%); border: none;\">\n",
              "                <td colspan=\"2\" style=\"padding: 0 0.5em 0 0.5em; text-align: center; border: none; white-space: nowrap;\">\n",
              "                    <i>&hellip; 210 more negative &hellip;</i>\n",
              "                </td>\n",
              "            </tr>\n",
              "        \n",
              "        \n",
              "            <tr style=\"background-color: hsl(0, 100.00%, 89.04%); border: none;\">\n",
              "    <td style=\"padding: 0 1em 0 0.5em; text-align: right; border: none;\">\n",
              "        -1.298\n",
              "    </td>\n",
              "    <td style=\"padding: 0 0.5em 0 0.5em; text-align: left; border: none;\">\n",
              "        that\n",
              "    </td>\n",
              "    \n",
              "</tr>\n",
              "        \n",
              "            <tr style=\"background-color: hsl(0, 100.00%, 88.92%); border: none;\">\n",
              "    <td style=\"padding: 0 1em 0 0.5em; text-align: right; border: none;\">\n",
              "        -1.319\n",
              "    </td>\n",
              "    <td style=\"padding: 0 0.5em 0 0.5em; text-align: left; border: none;\">\n",
              "        predicted\n",
              "    </td>\n",
              "    \n",
              "</tr>\n",
              "        \n",
              "            <tr style=\"background-color: hsl(0, 100.00%, 88.90%); border: none;\">\n",
              "    <td style=\"padding: 0 1em 0 0.5em; text-align: right; border: none;\">\n",
              "        -1.323\n",
              "    </td>\n",
              "    <td style=\"padding: 0 0.5em 0 0.5em; text-align: left; border: none;\">\n",
              "        experts\n",
              "    </td>\n",
              "    \n",
              "</tr>\n",
              "        \n",
              "            <tr style=\"background-color: hsl(0, 100.00%, 88.84%); border: none;\">\n",
              "    <td style=\"padding: 0 1em 0 0.5em; text-align: right; border: none;\">\n",
              "        -1.332\n",
              "    </td>\n",
              "    <td style=\"padding: 0 0.5em 0 0.5em; text-align: left; border: none;\">\n",
              "        we\n",
              "    </td>\n",
              "    \n",
              "</tr>\n",
              "        \n",
              "            <tr style=\"background-color: hsl(0, 100.00%, 88.81%); border: none;\">\n",
              "    <td style=\"padding: 0 1em 0 0.5em; text-align: right; border: none;\">\n",
              "        -1.337\n",
              "    </td>\n",
              "    <td style=\"padding: 0 0.5em 0 0.5em; text-align: left; border: none;\">\n",
              "        you\n",
              "    </td>\n",
              "    \n",
              "</tr>\n",
              "        \n",
              "            <tr style=\"background-color: hsl(0, 100.00%, 88.68%); border: none;\">\n",
              "    <td style=\"padding: 0 1em 0 0.5em; text-align: right; border: none;\">\n",
              "        -1.359\n",
              "    </td>\n",
              "    <td style=\"padding: 0 0.5em 0 0.5em; text-align: left; border: none;\">\n",
              "        rally\n",
              "    </td>\n",
              "    \n",
              "</tr>\n",
              "        \n",
              "            <tr style=\"background-color: hsl(0, 100.00%, 88.48%); border: none;\">\n",
              "    <td style=\"padding: 0 1em 0 0.5em; text-align: right; border: none;\">\n",
              "        -1.394\n",
              "    </td>\n",
              "    <td style=\"padding: 0 0.5em 0 0.5em; text-align: left; border: none;\">\n",
              "        landslide\n",
              "    </td>\n",
              "    \n",
              "</tr>\n",
              "        \n",
              "            <tr style=\"background-color: hsl(0, 100.00%, 88.39%); border: none;\">\n",
              "    <td style=\"padding: 0 1em 0 0.5em; text-align: right; border: none;\">\n",
              "        -1.410\n",
              "    </td>\n",
              "    <td style=\"padding: 0 0.5em 0 0.5em; text-align: left; border: none;\">\n",
              "        la\n",
              "    </td>\n",
              "    \n",
              "</tr>\n",
              "        \n",
              "            <tr style=\"background-color: hsl(0, 100.00%, 88.22%); border: none;\">\n",
              "    <td style=\"padding: 0 1em 0 0.5em; text-align: right; border: none;\">\n",
              "        -1.440\n",
              "    </td>\n",
              "    <td style=\"padding: 0 0.5em 0 0.5em; text-align: left; border: none;\">\n",
              "        this\n",
              "    </td>\n",
              "    \n",
              "</tr>\n",
              "        \n",
              "            <tr style=\"background-color: hsl(0, 100.00%, 88.19%); border: none;\">\n",
              "    <td style=\"padding: 0 1em 0 0.5em; text-align: right; border: none;\">\n",
              "        -1.445\n",
              "    </td>\n",
              "    <td style=\"padding: 0 0.5em 0 0.5em; text-align: left; border: none;\">\n",
              "        le\n",
              "    </td>\n",
              "    \n",
              "</tr>\n",
              "        \n",
              "            <tr style=\"background-color: hsl(0, 100.00%, 88.06%); border: none;\">\n",
              "    <td style=\"padding: 0 1em 0 0.5em; text-align: right; border: none;\">\n",
              "        -1.467\n",
              "    </td>\n",
              "    <td style=\"padding: 0 0.5em 0 0.5em; text-align: left; border: none;\">\n",
              "        if\n",
              "    </td>\n",
              "    \n",
              "</tr>\n",
              "        \n",
              "            <tr style=\"background-color: hsl(0, 100.00%, 87.91%); border: none;\">\n",
              "    <td style=\"padding: 0 1em 0 0.5em; text-align: right; border: none;\">\n",
              "        -1.494\n",
              "    </td>\n",
              "    <td style=\"padding: 0 0.5em 0 0.5em; text-align: left; border: none;\">\n",
              "        gorafi\n",
              "    </td>\n",
              "    \n",
              "</tr>\n",
              "        \n",
              "            <tr style=\"background-color: hsl(0, 100.00%, 87.78%); border: none;\">\n",
              "    <td style=\"padding: 0 1em 0 0.5em; text-align: right; border: none;\">\n",
              "        -1.517\n",
              "    </td>\n",
              "    <td style=\"padding: 0 0.5em 0 0.5em; text-align: left; border: none;\">\n",
              "        victory\n",
              "    </td>\n",
              "    \n",
              "</tr>\n",
              "        \n",
              "            <tr style=\"background-color: hsl(0, 100.00%, 87.75%); border: none;\">\n",
              "    <td style=\"padding: 0 1em 0 0.5em; text-align: right; border: none;\">\n",
              "        -1.522\n",
              "    </td>\n",
              "    <td style=\"padding: 0 0.5em 0 0.5em; text-align: left; border: none;\">\n",
              "        an\n",
              "    </td>\n",
              "    \n",
              "</tr>\n",
              "        \n",
              "            <tr style=\"background-color: hsl(0, 100.00%, 87.67%); border: none;\">\n",
              "    <td style=\"padding: 0 1em 0 0.5em; text-align: right; border: none;\">\n",
              "        -1.535\n",
              "    </td>\n",
              "    <td style=\"padding: 0 0.5em 0 0.5em; text-align: left; border: none;\">\n",
              "        predicts\n",
              "    </td>\n",
              "    \n",
              "</tr>\n",
              "        \n",
              "            <tr style=\"background-color: hsl(0, 100.00%, 87.56%); border: none;\">\n",
              "    <td style=\"padding: 0 1em 0 0.5em; text-align: right; border: none;\">\n",
              "        -1.556\n",
              "    </td>\n",
              "    <td style=\"padding: 0 0.5em 0 0.5em; text-align: left; border: none;\">\n",
              "        star\n",
              "    </td>\n",
              "    \n",
              "</tr>\n",
              "        \n",
              "            <tr style=\"background-color: hsl(0, 100.00%, 87.46%); border: none;\">\n",
              "    <td style=\"padding: 0 1em 0 0.5em; text-align: right; border: none;\">\n",
              "        -1.573\n",
              "    </td>\n",
              "    <td style=\"padding: 0 0.5em 0 0.5em; text-align: left; border: none;\">\n",
              "        because\n",
              "    </td>\n",
              "    \n",
              "</tr>\n",
              "        \n",
              "            <tr style=\"background-color: hsl(0, 100.00%, 87.13%); border: none;\">\n",
              "    <td style=\"padding: 0 1em 0 0.5em; text-align: right; border: none;\">\n",
              "        -1.633\n",
              "    </td>\n",
              "    <td style=\"padding: 0 0.5em 0 0.5em; text-align: left; border: none;\">\n",
              "        voter\n",
              "    </td>\n",
              "    \n",
              "</tr>\n",
              "        \n",
              "            <tr style=\"background-color: hsl(0, 100.00%, 87.09%); border: none;\">\n",
              "    <td style=\"padding: 0 1em 0 0.5em; text-align: right; border: none;\">\n",
              "        -1.640\n",
              "    </td>\n",
              "    <td style=\"padding: 0 0.5em 0 0.5em; text-align: left; border: none;\">\n",
              "        ins\n",
              "    </td>\n",
              "    \n",
              "</tr>\n",
              "        \n",
              "            <tr style=\"background-color: hsl(0, 100.00%, 87.07%); border: none;\">\n",
              "    <td style=\"padding: 0 1em 0 0.5em; text-align: right; border: none;\">\n",
              "        -1.644\n",
              "    </td>\n",
              "    <td style=\"padding: 0 0.5em 0 0.5em; text-align: left; border: none;\">\n",
              "        political\n",
              "    </td>\n",
              "    \n",
              "</tr>\n",
              "        \n",
              "            <tr style=\"background-color: hsl(0, 100.00%, 86.97%); border: none;\">\n",
              "    <td style=\"padding: 0 1em 0 0.5em; text-align: right; border: none;\">\n",
              "        -1.663\n",
              "    </td>\n",
              "    <td style=\"padding: 0 0.5em 0 0.5em; text-align: left; border: none;\">\n",
              "        comment\n",
              "    </td>\n",
              "    \n",
              "</tr>\n",
              "        \n",
              "            <tr style=\"background-color: hsl(0, 100.00%, 86.78%); border: none;\">\n",
              "    <td style=\"padding: 0 1em 0 0.5em; text-align: right; border: none;\">\n",
              "        -1.697\n",
              "    </td>\n",
              "    <td style=\"padding: 0 0.5em 0 0.5em; text-align: left; border: none;\">\n",
              "        video\n",
              "    </td>\n",
              "    \n",
              "</tr>\n",
              "        \n",
              "            <tr style=\"background-color: hsl(0, 100.00%, 86.76%); border: none;\">\n",
              "    <td style=\"padding: 0 1em 0 0.5em; text-align: right; border: none;\">\n",
              "        -1.701\n",
              "    </td>\n",
              "    <td style=\"padding: 0 0.5em 0 0.5em; text-align: left; border: none;\">\n",
              "        voting\n",
              "    </td>\n",
              "    \n",
              "</tr>\n",
              "        \n",
              "            <tr style=\"background-color: hsl(0, 100.00%, 86.73%); border: none;\">\n",
              "    <td style=\"padding: 0 1em 0 0.5em; text-align: right; border: none;\">\n",
              "        -1.706\n",
              "    </td>\n",
              "    <td style=\"padding: 0 0.5em 0 0.5em; text-align: left; border: none;\">\n",
              "        promised\n",
              "    </td>\n",
              "    \n",
              "</tr>\n",
              "        \n",
              "            <tr style=\"background-color: hsl(0, 100.00%, 86.69%); border: none;\">\n",
              "    <td style=\"padding: 0 1em 0 0.5em; text-align: right; border: none;\">\n",
              "        -1.713\n",
              "    </td>\n",
              "    <td style=\"padding: 0 0.5em 0 0.5em; text-align: left; border: none;\">\n",
              "        war\n",
              "    </td>\n",
              "    \n",
              "</tr>\n",
              "        \n",
              "            <tr style=\"background-color: hsl(0, 100.00%, 86.67%); border: none;\">\n",
              "    <td style=\"padding: 0 1em 0 0.5em; text-align: right; border: none;\">\n",
              "        -1.718\n",
              "    </td>\n",
              "    <td style=\"padding: 0 0.5em 0 0.5em; text-align: left; border: none;\">\n",
              "        assassination\n",
              "    </td>\n",
              "    \n",
              "</tr>\n",
              "        \n",
              "            <tr style=\"background-color: hsl(0, 100.00%, 86.53%); border: none;\">\n",
              "    <td style=\"padding: 0 1em 0 0.5em; text-align: right; border: none;\">\n",
              "        -1.743\n",
              "    </td>\n",
              "    <td style=\"padding: 0 0.5em 0 0.5em; text-align: left; border: none;\">\n",
              "        veterans\n",
              "    </td>\n",
              "    \n",
              "</tr>\n",
              "        \n",
              "            <tr style=\"background-color: hsl(0, 100.00%, 86.12%); border: none;\">\n",
              "    <td style=\"padding: 0 1em 0 0.5em; text-align: right; border: none;\">\n",
              "        -1.820\n",
              "    </td>\n",
              "    <td style=\"padding: 0 0.5em 0 0.5em; text-align: left; border: none;\">\n",
              "        go\n",
              "    </td>\n",
              "    \n",
              "</tr>\n",
              "        \n",
              "            <tr style=\"background-color: hsl(0, 100.00%, 85.96%); border: none;\">\n",
              "    <td style=\"padding: 0 1em 0 0.5em; text-align: right; border: none;\">\n",
              "        -1.848\n",
              "    </td>\n",
              "    <td style=\"padding: 0 0.5em 0 0.5em; text-align: left; border: none;\">\n",
              "        11\n",
              "    </td>\n",
              "    \n",
              "</tr>\n",
              "        \n",
              "            <tr style=\"background-color: hsl(0, 100.00%, 85.80%); border: none;\">\n",
              "    <td style=\"padding: 0 1em 0 0.5em; text-align: right; border: none;\">\n",
              "        -1.878\n",
              "    </td>\n",
              "    <td style=\"padding: 0 0.5em 0 0.5em; text-align: left; border: none;\">\n",
              "        watch\n",
              "    </td>\n",
              "    \n",
              "</tr>\n",
              "        \n",
              "            <tr style=\"background-color: hsl(0, 100.00%, 85.74%); border: none;\">\n",
              "    <td style=\"padding: 0 1em 0 0.5em; text-align: right; border: none;\">\n",
              "        -1.891\n",
              "    </td>\n",
              "    <td style=\"padding: 0 0.5em 0 0.5em; text-align: left; border: none;\">\n",
              "        daily\n",
              "    </td>\n",
              "    \n",
              "</tr>\n",
              "        \n",
              "            <tr style=\"background-color: hsl(0, 100.00%, 85.68%); border: none;\">\n",
              "    <td style=\"padding: 0 1em 0 0.5em; text-align: right; border: none;\">\n",
              "        -1.903\n",
              "    </td>\n",
              "    <td style=\"padding: 0 0.5em 0 0.5em; text-align: left; border: none;\">\n",
              "        black\n",
              "    </td>\n",
              "    \n",
              "</tr>\n",
              "        \n",
              "            <tr style=\"background-color: hsl(0, 100.00%, 85.60%); border: none;\">\n",
              "    <td style=\"padding: 0 1em 0 0.5em; text-align: right; border: none;\">\n",
              "        -1.916\n",
              "    </td>\n",
              "    <td style=\"padding: 0 0.5em 0 0.5em; text-align: left; border: none;\">\n",
              "        just\n",
              "    </td>\n",
              "    \n",
              "</tr>\n",
              "        \n",
              "            <tr style=\"background-color: hsl(0, 100.00%, 85.34%); border: none;\">\n",
              "    <td style=\"padding: 0 1em 0 0.5em; text-align: right; border: none;\">\n",
              "        -1.966\n",
              "    </td>\n",
              "    <td style=\"padding: 0 0.5em 0 0.5em; text-align: left; border: none;\">\n",
              "        soros\n",
              "    </td>\n",
              "    \n",
              "</tr>\n",
              "        \n",
              "            <tr style=\"background-color: hsl(0, 100.00%, 85.33%); border: none;\">\n",
              "    <td style=\"padding: 0 1em 0 0.5em; text-align: right; border: none;\">\n",
              "        -1.969\n",
              "    </td>\n",
              "    <td style=\"padding: 0 0.5em 0 0.5em; text-align: left; border: none;\">\n",
              "        biden\n",
              "    </td>\n",
              "    \n",
              "</tr>\n",
              "        \n",
              "            <tr style=\"background-color: hsl(0, 100.00%, 84.46%); border: none;\">\n",
              "    <td style=\"padding: 0 1em 0 0.5em; text-align: right; border: none;\">\n",
              "        -2.138\n",
              "    </td>\n",
              "    <td style=\"padding: 0 0.5em 0 0.5em; text-align: left; border: none;\">\n",
              "        she\n",
              "    </td>\n",
              "    \n",
              "</tr>\n",
              "        \n",
              "            <tr style=\"background-color: hsl(0, 100.00%, 83.89%); border: none;\">\n",
              "    <td style=\"padding: 0 1em 0 0.5em; text-align: right; border: none;\">\n",
              "        -2.251\n",
              "    </td>\n",
              "    <td style=\"padding: 0 0.5em 0 0.5em; text-align: left; border: none;\">\n",
              "        woman\n",
              "    </td>\n",
              "    \n",
              "</tr>\n",
              "        \n",
              "            <tr style=\"background-color: hsl(0, 100.00%, 83.40%); border: none;\">\n",
              "    <td style=\"padding: 0 1em 0 0.5em; text-align: right; border: none;\">\n",
              "        -2.349\n",
              "    </td>\n",
              "    <td style=\"padding: 0 0.5em 0 0.5em; text-align: left; border: none;\">\n",
              "        hillary\n",
              "    </td>\n",
              "    \n",
              "</tr>\n",
              "        \n",
              "            <tr style=\"background-color: hsl(0, 100.00%, 82.93%); border: none;\">\n",
              "    <td style=\"padding: 0 1em 0 0.5em; text-align: right; border: none;\">\n",
              "        -2.445\n",
              "    </td>\n",
              "    <td style=\"padding: 0 0.5em 0 0.5em; text-align: left; border: none;\">\n",
              "        10\n",
              "    </td>\n",
              "    \n",
              "</tr>\n",
              "        \n",
              "            <tr style=\"background-color: hsl(0, 100.00%, 80.00%); border: none;\">\n",
              "    <td style=\"padding: 0 1em 0 0.5em; text-align: right; border: none;\">\n",
              "        -3.065\n",
              "    </td>\n",
              "    <td style=\"padding: 0 0.5em 0 0.5em; text-align: left; border: none;\">\n",
              "        breaking\n",
              "    </td>\n",
              "    \n",
              "</tr>\n",
              "        \n",
              "\n",
              "        </tbody>\n",
              "    </table>\n",
              "\n",
              "            \n",
              "        \n",
              "\n",
              "        \n",
              "\n",
              "\n",
              "\n",
              "    \n",
              "\n",
              "    \n",
              "\n",
              "    \n",
              "\n",
              "    \n",
              "\n",
              "\n",
              "    \n",
              "\n",
              "    \n",
              "\n",
              "    \n",
              "\n",
              "    \n",
              "\n",
              "    \n",
              "\n",
              "    \n",
              "\n",
              "\n",
              "    \n",
              "\n",
              "    \n",
              "\n",
              "    \n",
              "\n",
              "    \n",
              "\n",
              "    \n",
              "\n",
              "    \n",
              "\n",
              "\n",
              "\n"
            ]
          },
          "metadata": {},
          "execution_count": 113
        }
      ]
    },
    {
      "cell_type": "code",
      "metadata": {
        "id": "xYeCiBrZg8fc"
      },
      "source": [
        "tr = vect.transform(['why iranian american pastor held hostage in iran is voting for donald trump'])\n"
      ],
      "execution_count": 114,
      "outputs": []
    },
    {
      "cell_type": "code",
      "metadata": {
        "colab": {
          "base_uri": "https://localhost:8080/"
        },
        "id": "3j2-c3RAhmuQ",
        "outputId": "3cffea1d-8f35-4031-c7a7-2ba0f550be3b"
      },
      "source": [
        "clf.predict_proba(tr)"
      ],
      "execution_count": 115,
      "outputs": [
        {
          "output_type": "execute_result",
          "data": {
            "text/plain": [
              "array([[0.83629576, 0.16370424]])"
            ]
          },
          "metadata": {},
          "execution_count": 115
        }
      ]
    },
    {
      "cell_type": "code",
      "metadata": {
        "colab": {
          "base_uri": "https://localhost:8080/",
          "height": 170
        },
        "id": "Oj2t2CEhh0UQ",
        "outputId": "2559dadb-7443-4d42-b472-e01214a6217c"
      },
      "source": [
        "from eli5 import show_prediction\n",
        "show_prediction(clf, 'why iranian american pastor held hostage in iran is voting for donald trump', vec=vect, feature_names=vect.get_feature_names_out())"
      ],
      "execution_count": 116,
      "outputs": [
        {
          "output_type": "execute_result",
          "data": {
            "text/plain": [
              "<IPython.core.display.HTML object>"
            ],
            "text/html": [
              "\n",
              "    <style>\n",
              "    table.eli5-weights tr:hover {\n",
              "        filter: brightness(85%);\n",
              "    }\n",
              "</style>\n",
              "\n",
              "\n",
              "\n",
              "    \n",
              "\n",
              "    \n",
              "\n",
              "    \n",
              "\n",
              "    \n",
              "\n",
              "    \n",
              "\n",
              "    \n",
              "\n",
              "\n",
              "    \n",
              "\n",
              "    \n",
              "\n",
              "    \n",
              "\n",
              "    \n",
              "        \n",
              "\n",
              "    \n",
              "\n",
              "        \n",
              "\n",
              "        \n",
              "    \n",
              "        \n",
              "        \n",
              "    \n",
              "        <p style=\"margin-bottom: 0.5em; margin-top: 0em\">\n",
              "            <b>\n",
              "    \n",
              "        y=0.0\n",
              "    \n",
              "</b>\n",
              "\n",
              "    \n",
              "    (probability <b>0.836</b>, score <b>-1.631</b>)\n",
              "\n",
              "top features\n",
              "        </p>\n",
              "    \n",
              "    <table class=\"eli5-weights\"\n",
              "           style=\"border-collapse: collapse; border: none; margin-top: 0em; table-layout: auto; margin-bottom: 2em;\">\n",
              "        <thead>\n",
              "        <tr style=\"border: none;\">\n",
              "            \n",
              "                <th style=\"padding: 0 1em 0 0.5em; text-align: right; border: none;\" title=\"Feature contribution already accounts for the feature value (for linear models, contribution = weight * feature value), and the sum of feature contributions is equal to the score or, for some classifiers, to the probability. Feature values are shown if &quot;show_feature_values&quot; is True.\">\n",
              "                    Contribution<sup>?</sup>\n",
              "                </th>\n",
              "            \n",
              "            <th style=\"padding: 0 0.5em 0 0.5em; text-align: left; border: none;\">Feature</th>\n",
              "            \n",
              "        </tr>\n",
              "        </thead>\n",
              "        <tbody>\n",
              "        \n",
              "            <tr style=\"background-color: hsl(120, 100.00%, 80.00%); border: none;\">\n",
              "    <td style=\"padding: 0 1em 0 0.5em; text-align: right; border: none;\">\n",
              "        +3.950\n",
              "    </td>\n",
              "    <td style=\"padding: 0 0.5em 0 0.5em; text-align: left; border: none;\">\n",
              "        Highlighted in text (sum)\n",
              "    </td>\n",
              "    \n",
              "</tr>\n",
              "        \n",
              "        \n",
              "\n",
              "        \n",
              "        \n",
              "            <tr style=\"background-color: hsl(0, 100.00%, 86.22%); border: none;\">\n",
              "    <td style=\"padding: 0 1em 0 0.5em; text-align: right; border: none;\">\n",
              "        -2.320\n",
              "    </td>\n",
              "    <td style=\"padding: 0 0.5em 0 0.5em; text-align: left; border: none;\">\n",
              "        &lt;BIAS&gt;\n",
              "    </td>\n",
              "    \n",
              "</tr>\n",
              "        \n",
              "\n",
              "        </tbody>\n",
              "    </table>\n",
              "\n",
              "    \n",
              "\n",
              "\n",
              "\n",
              "    <p style=\"margin-bottom: 2.5em; margin-top:-0.5em;\">\n",
              "        <span style=\"background-color: hsl(120, 100.00%, 83.81%); opacity: 0.85\" title=\"0.467\">why</span><span style=\"opacity: 0.80\"> iranian </span><span style=\"background-color: hsl(120, 100.00%, 86.07%); opacity: 0.84\" title=\"0.377\">american</span><span style=\"opacity: 0.80\"> pastor held hostage </span><span style=\"background-color: hsl(120, 100.00%, 89.20%); opacity: 0.83\" title=\"0.262\">in</span><span style=\"opacity: 0.80\"> iran </span><span style=\"background-color: hsl(120, 100.00%, 70.80%); opacity: 0.93\" title=\"1.085\">is</span><span style=\"opacity: 0.80\"> </span><span style=\"background-color: hsl(120, 100.00%, 60.00%); opacity: 1.00\" title=\"1.701\">voting</span><span style=\"opacity: 0.80\"> </span><span style=\"background-color: hsl(120, 100.00%, 83.70%); opacity: 0.86\" title=\"0.472\">for</span><span style=\"opacity: 0.80\"> </span><span style=\"background-color: hsl(0, 100.00%, 68.06%); opacity: 0.95\" title=\"-1.233\">donald</span><span style=\"opacity: 0.80\"> </span><span style=\"background-color: hsl(120, 100.00%, 76.00%); opacity: 0.90\" title=\"0.820\">trump</span>\n",
              "    </p>\n",
              "\n",
              "\n",
              "    \n",
              "\n",
              "    \n",
              "\n",
              "    \n",
              "\n",
              "    \n",
              "\n",
              "\n",
              "    \n",
              "\n",
              "    \n",
              "\n",
              "    \n",
              "\n",
              "    \n",
              "\n",
              "    \n",
              "\n",
              "    \n",
              "\n",
              "\n",
              "    \n",
              "\n",
              "    \n",
              "\n",
              "    \n",
              "\n",
              "    \n",
              "\n",
              "    \n",
              "\n",
              "    \n",
              "\n",
              "\n",
              "\n"
            ]
          },
          "metadata": {},
          "execution_count": 116
        }
      ]
    },
    {
      "cell_type": "code",
      "source": [],
      "metadata": {
        "id": "kuELEwK_xJGU"
      },
      "execution_count": 116,
      "outputs": []
    },
    {
      "cell_type": "code",
      "source": [
        "# Plot histograms of coefficients\n",
        "coeff_l1_flat = np.array(coeff_l1).flatten()\n",
        "coeff_l2_flat = np.array(coeff_l2).flatten()\n",
        "\n",
        "fig, ax = plt.subplots(nrows=1, ncols=2, figsize=(15, 6))\n",
        "\n",
        "# L1 Regularization\n",
        "ax[1].hist(coeff_l1_flat, bins=30, color='red', alpha=0.7, label='L1 Regularization)')\n",
        "ax[1].set_title('Histogram of Coefficients with L1 Regularization')\n",
        "ax[1].set_xlabel('Coefficient Value')\n",
        "ax[1].set_ylabel('Frequency')\n",
        "ax[1].legend()\n",
        "\n",
        "# L2 Regularization\n",
        "ax[0].hist(coeff_l2_flat, bins=30, color='blue', alpha=0.7, label='L2 Regularization')\n",
        "ax[0].set_title('Histogram of Coefficients with L2 Regularization')\n",
        "ax[0].set_xlabel('Coefficient Value')\n",
        "ax[0].set_ylabel('Frequency')\n",
        "ax[0].legend()\n",
        "\n",
        "plt.tight_layout()\n",
        "plt.show()"
      ],
      "metadata": {
        "colab": {
          "base_uri": "https://localhost:8080/",
          "height": 607
        },
        "id": "1vInkF6USz-6",
        "outputId": "241d90f6-9ad5-4a99-cd2f-239352af5954"
      },
      "execution_count": 117,
      "outputs": [
        {
          "output_type": "display_data",
          "data": {
            "text/plain": [
              "<Figure size 1500x600 with 2 Axes>"
            ],
            "image/png": "[encoded data removed]"
          },
          "metadata": {}
        }
      ]
    },
    {
      "cell_type": "markdown",
      "source": [
        "Sparsity in L1 (Red): The histogram for L1 regularization has a pronounced peak at zero, it indicates that many coefficients were driven to zero. This is characteristic of L1 regularization, which tends to induce sparsity by setting many coefficients to zero, making it useful for feature selection.\n",
        "\n",
        "Spread in L2 (Blue): The histogram for L2 regularization is more spread out and doesn't have as pronounced a peak at zero, it suggests that L2 regularization constrains the magnitudes of the coefficients without necessarily setting them to zero. This behavior prevents overfitting by ensuring that no coefficient becomes overly dominant.\n"
      ],
      "metadata": {
        "id": "zRhA9eMAW6iw"
      }
    },
    {
      "cell_type": "code",
      "source": [
        "# URLs\n",
        "fake_news_url = \"https://raw.githubusercontent.com/aanchan/CS6140-hw1-starter-code/main/data/clean_fake.txt\"\n",
        "real_news_url = \"https://raw.githubusercontent.com/aanchan/CS6140-hw1-starter-code/main/data/clean_real.txt\"\n",
        "\n",
        "fake_news = read_data_from_urls(fake_news_url)\n",
        "real_news = read_data_from_urls(real_news_url)\n",
        "\n",
        "# Combine the datasets and create labels: 0 for fake, 1 for real\n",
        "all_news = fake_news + real_news\n",
        "labels = [0] * len(fake_news) + [1] * len(real_news)\n",
        "\n",
        "# Vectorize the text data\n",
        "vectorizer = CountVectorizer()\n",
        "X = vectorizer.fit_transform(all_news).toarray()\n",
        "y = np.array(labels)\n",
        "\n",
        "X.shape, y.shape"
      ],
      "metadata": {
        "colab": {
          "base_uri": "https://localhost:8080/"
        },
        "id": "Z8BMGjbtS0Vj",
        "outputId": "6eec09b2-8b03-49d3-c86d-03c53eff495f"
      },
      "execution_count": 118,
      "outputs": [
        {
          "output_type": "execute_result",
          "data": {
            "text/plain": [
              "((3266, 5799), (3266,))"
            ]
          },
          "metadata": {},
          "execution_count": 118
        }
      ]
    },
    {
      "cell_type": "code",
      "source": [
        "# 1. No Regularization:\n",
        "\n",
        "# Initialize storage for metrics\n",
        "no_reg_metrics = {\n",
        "    \"precision\": [],\n",
        "    \"recall\": [],\n",
        "    \"f1\": []\n",
        "}\n",
        "\n",
        "kf = KFold(n_splits=5, shuffle=True, random_state=42)\n",
        "\n",
        "# Cross-validation loop\n",
        "for train_index, test_index in kf.split(X):\n",
        "    X_train, X_test = X[train_index], X[test_index]\n",
        "    y_train, y_test = y[train_index], y[test_index]\n",
        "\n",
        "    # No regularization\n",
        "    clf = LogisticRegression(penalty='none', max_iter=10000).fit(X_train, y_train)\n",
        "    y_pred = clf.predict(X_test)\n",
        "    no_reg_metrics[\"precision\"].append(precision_score(y_test, y_pred))\n",
        "    no_reg_metrics[\"recall\"].append(recall_score(y_test, y_pred))\n",
        "    no_reg_metrics[\"f1\"].append(f1_score(y_test, y_pred))\n",
        "\n",
        "no_reg_metrics"
      ],
      "metadata": {
        "id": "YLhQvENfS0e9",
        "colab": {
          "base_uri": "https://localhost:8080/"
        },
        "outputId": "eb3eaebc-5bcc-42a3-df09-3dd4a2a4d520"
      },
      "execution_count": 119,
      "outputs": [
        {
          "output_type": "stream",
          "name": "stderr",
          "text": [
            "/usr/local/lib/python3.10/dist-packages/sklearn/linear_model/_logistic.py:1173: FutureWarning: `penalty='none'`has been deprecated in 1.2 and will be removed in 1.4. To keep the past behaviour, set `penalty=None`.\n",
            "  warnings.warn(\n",
            "/usr/local/lib/python3.10/dist-packages/sklearn/linear_model/_logistic.py:1173: FutureWarning: `penalty='none'`has been deprecated in 1.2 and will be removed in 1.4. To keep the past behaviour, set `penalty=None`.\n",
            "  warnings.warn(\n",
            "/usr/local/lib/python3.10/dist-packages/sklearn/linear_model/_logistic.py:1173: FutureWarning: `penalty='none'`has been deprecated in 1.2 and will be removed in 1.4. To keep the past behaviour, set `penalty=None`.\n",
            "  warnings.warn(\n",
            "/usr/local/lib/python3.10/dist-packages/sklearn/linear_model/_logistic.py:1173: FutureWarning: `penalty='none'`has been deprecated in 1.2 and will be removed in 1.4. To keep the past behaviour, set `penalty=None`.\n",
            "  warnings.warn(\n",
            "/usr/local/lib/python3.10/dist-packages/sklearn/linear_model/_logistic.py:1173: FutureWarning: `penalty='none'`has been deprecated in 1.2 and will be removed in 1.4. To keep the past behaviour, set `penalty=None`.\n",
            "  warnings.warn(\n"
          ]
        },
        {
          "output_type": "execute_result",
          "data": {
            "text/plain": [
              "{'precision': [0.8255208333333334,\n",
              "  0.8691358024691358,\n",
              "  0.8238095238095238,\n",
              "  0.8531468531468531,\n",
              "  0.8603491271820449],\n",
              " 'recall': [0.8732782369146006,\n",
              "  0.8712871287128713,\n",
              "  0.8628428927680798,\n",
              "  0.9037037037037037,\n",
              "  0.8734177215189873],\n",
              " 'f1': [0.8487282463186078,\n",
              "  0.8702101359703337,\n",
              "  0.8428745432399513,\n",
              "  0.8776978417266187,\n",
              "  0.8668341708542713]}"
            ]
          },
          "metadata": {},
          "execution_count": 119
        }
      ]
    },
    {
      "cell_type": "markdown",
      "source": [
        "Precision: Values range from approximately 0.82 to 0.87. This indicates that the proportion of positive identifications that were actually correct is relatively high.\n",
        "\n",
        "Recall: Values range from around 0.87 to 0.90. This suggests that the proportion of actual positives that were identified correctly is consistent across folds.\n",
        "\n",
        "F1-Score: Values are around 0.84 to 0.88, showing a balance between precision and recall."
      ],
      "metadata": {
        "id": "iPDTtE2YsS0x"
      }
    },
    {
      "cell_type": "code",
      "source": [
        "# 2. L2 Regularization:\n",
        "\n",
        "# Initialize storage for metrics\n",
        "l2_reg_metrics = {\n",
        "    \"precision\": [],\n",
        "    \"recall\": [],\n",
        "    \"f1\": []\n",
        "}\n",
        "\n",
        "# Cross-validation loop\n",
        "for train_index, test_index in kf.split(X):\n",
        "    X_train, X_test = X[train_index], X[test_index]\n",
        "    y_train, y_test = y[train_index], y[test_index]\n",
        "\n",
        "    # L2 regularization\n",
        "    clf = LogisticRegression(penalty='l2', max_iter=10000).fit(X_train, y_train)\n",
        "    y_pred = clf.predict(X_test)\n",
        "    l2_reg_metrics[\"precision\"].append(precision_score(y_test, y_pred))\n",
        "    l2_reg_metrics[\"recall\"].append(recall_score(y_test, y_pred))\n",
        "    l2_reg_metrics[\"f1\"].append(f1_score(y_test, y_pred))\n",
        "\n",
        "l2_reg_metrics\n"
      ],
      "metadata": {
        "id": "4K2rQKrKS0hx",
        "colab": {
          "base_uri": "https://localhost:8080/"
        },
        "outputId": "1f26ee40-e86b-4230-8ad3-8b15b961632a"
      },
      "execution_count": 120,
      "outputs": [
        {
          "output_type": "execute_result",
          "data": {
            "text/plain": [
              "{'precision': [0.8233830845771144,\n",
              "  0.8532110091743119,\n",
              "  0.8378995433789954,\n",
              "  0.8564593301435407,\n",
              "  0.861244019138756],\n",
              " 'recall': [0.9118457300275482,\n",
              "  0.9207920792079208,\n",
              "  0.9152119700748129,\n",
              "  0.8839506172839506,\n",
              "  0.9113924050632911],\n",
              " 'f1': [0.8653594771241829,\n",
              "  0.8857142857142858,\n",
              "  0.8748510131108462,\n",
              "  0.8699878493317134,\n",
              "  0.8856088560885609]}"
            ]
          },
          "metadata": {},
          "execution_count": 120
        }
      ]
    },
    {
      "cell_type": "markdown",
      "source": [
        "Precision: Values range from approximately 0.82 to 0.86, which is quite similar to the \"No Regularization\" model. This indicates a consistent ability to correctly identify positive cases.\n",
        "\n",
        "Recall: The values range from around 0.88 to 0.92, suggesting that the model has a consistent ability to identify all positive samples.\n",
        "\n",
        "F1-Score: The scores hover around 0.87 to 0.89, showcasing a balance between precision and recall. These scores are slightly higher than the \"No Regularization\" model, indicating that L2 regularization might be adding some benefits in terms of model generalization."
      ],
      "metadata": {
        "id": "NEcazpACscK0"
      }
    },
    {
      "cell_type": "code",
      "source": [
        "# 3. L1 Regularization:\n",
        "\n",
        "# Initialize storage for metrics\n",
        "l1_reg_metrics = {\n",
        "    \"precision\": [],\n",
        "    \"recall\": [],\n",
        "    \"f1\": []\n",
        "}\n",
        "\n",
        "# Cross-validation loop\n",
        "for train_index, test_index in kf.split(X):\n",
        "    X_train, X_test = X[train_index], X[test_index]\n",
        "    y_train, y_test = y[train_index], y[test_index]\n",
        "\n",
        "    # L1 regularization\n",
        "    clf = LogisticRegression(penalty='l1', solver='liblinear', max_iter=10000).fit(X_train, y_train)\n",
        "    y_pred = clf.predict(X_test)\n",
        "    l1_reg_metrics[\"precision\"].append(precision_score(y_test, y_pred))\n",
        "    l1_reg_metrics[\"recall\"].append(recall_score(y_test, y_pred))\n",
        "    l1_reg_metrics[\"f1\"].append(f1_score(y_test, y_pred))\n",
        "\n",
        "l1_reg_metrics\n"
      ],
      "metadata": {
        "colab": {
          "base_uri": "https://localhost:8080/"
        },
        "id": "Nv6juhOPpn8T",
        "outputId": "c1308cc9-a3fd-4927-be7e-ac184835bd54"
      },
      "execution_count": 121,
      "outputs": [
        {
          "output_type": "execute_result",
          "data": {
            "text/plain": [
              "{'precision': [0.7966101694915254,\n",
              "  0.835214446952596,\n",
              "  0.8237986270022883,\n",
              "  0.8443396226415094,\n",
              "  0.8422330097087378],\n",
              " 'recall': [0.90633608815427,\n",
              "  0.9158415841584159,\n",
              "  0.8977556109725686,\n",
              "  0.8839506172839506,\n",
              "  0.8784810126582279],\n",
              " 'f1': [0.8479381443298969,\n",
              "  0.873671782762692,\n",
              "  0.8591885441527447,\n",
              "  0.8636911942098915,\n",
              "  0.8599752168525403]}"
            ]
          },
          "metadata": {},
          "execution_count": 121
        }
      ]
    },
    {
      "cell_type": "markdown",
      "source": [
        "Precision: Values range from approximately 0.80 to 0.84. While still relatively high, these values are slightly lower than those for the \"No Regularization\" and \"L2 Regularization\" models. This suggests that the model might be slightly more conservative in predicting positive cases.\n",
        "\n",
        "Recall: The values range from around 0.88 to 0.91, which are consistent with the other models. This indicates that the model continues to capture most of the actual positive samples.\n",
        "\n",
        "F1-Score: The scores hover around 0.85 to 0.87. These are slightly lower than the scores for \"L2 Regularization\", suggesting that while L1 offers sparsity, it might not be the optimal choice for this dataset in terms of overall performance."
      ],
      "metadata": {
        "id": "eiMzluxgskDq"
      }
    },
    {
      "cell_type": "markdown",
      "source": [
        "Observations:\n",
        "\n",
        "Precision:\n",
        "L2 regularization maintains relatively high precision, similar to the scenario with no regularization.\n",
        "L1 regularization shows a slightly lower precision compared to the other two.\n",
        "\n",
        "Recall:\n",
        "L2 regularization appears to achieve the highest recall among the three scenarios.\n",
        "L1 and no regularization have similar recall values, but L1 has a slightly lower maximum recall.\n",
        "\n",
        "F1-Score:\n",
        "L2 regularization has the highest F1-scores, indicating a better balance of precision and recall compared to the other two scenarios.\n",
        "The F1-scores for no regularization and L1 regularization are quite similar, but L2 slightly outperforms both.\n",
        "\n",
        "L2 regularization seems to be the most beneficial among the three in terms of balancing precision and recall, as indicated by its highest F1-scores. It's particularly useful when we want to avoid overfitting while not completely zeroing out any features. L1 regularization achieves results quite similar to the no regularization scenario. However, it has the added benefit of feature selection by driving some coefficients to zero. In situations where interpretability and feature sparsity are crucial, L1 might be preferable.\n",
        "No regularization performs reasonably well, but it might be susceptible to overfitting."
      ],
      "metadata": {
        "id": "OwGCPm0LvPig"
      }
    },
    {
      "cell_type": "code",
      "source": [
        "# 4. PCA with k=1000:\n",
        "\n",
        "# Initialize storage for metrics\n",
        "pca_1000_metrics = {\n",
        "    \"precision\": [],\n",
        "    \"recall\": [],\n",
        "    \"f1\": []\n",
        "}\n",
        "\n",
        "# Cross-validation loop\n",
        "for train_index, test_index in kf.split(X):\n",
        "    X_train, X_test = X[train_index], X[test_index]\n",
        "    y_train, y_test = y[train_index], y[test_index]\n",
        "\n",
        "    # PCA 1000\n",
        "    pca = PCA(n_components=1000)\n",
        "    X_train_pca = pca.fit_transform(X_train)\n",
        "    X_test_pca = pca.transform(X_test)\n",
        "    clf = LogisticRegression(max_iter=10000).fit(X_train_pca, y_train)\n",
        "    y_pred = clf.predict(X_test_pca)\n",
        "    pca_1000_metrics[\"precision\"].append(precision_score(y_test, y_pred))\n",
        "    pca_1000_metrics[\"recall\"].append(recall_score(y_test, y_pred))\n",
        "    pca_1000_metrics[\"f1\"].append(f1_score(y_test, y_pred))\n",
        "\n",
        "pca_1000_metrics"
      ],
      "metadata": {
        "colab": {
          "base_uri": "https://localhost:8080/"
        },
        "id": "yVDrg-Vrsp0c",
        "outputId": "b8ed860e-7016-47e9-9d89-df99a35a7bd8"
      },
      "execution_count": 122,
      "outputs": [
        {
          "output_type": "execute_result",
          "data": {
            "text/plain": [
              "{'precision': [0.8077858880778589,\n",
              "  0.8466819221967964,\n",
              "  0.8344827586206897,\n",
              "  0.8456057007125891,\n",
              "  0.8547215496368039],\n",
              " 'recall': [0.9146005509641874,\n",
              "  0.9158415841584159,\n",
              "  0.9052369077306733,\n",
              "  0.8790123456790123,\n",
              "  0.8936708860759494],\n",
              " 'f1': [0.8578811369509044,\n",
              "  0.8799048751486326,\n",
              "  0.868421052631579,\n",
              "  0.8619854721549637,\n",
              "  0.8737623762376238]}"
            ]
          },
          "metadata": {},
          "execution_count": 122
        }
      ]
    },
    {
      "cell_type": "markdown",
      "source": [
        "PCA with k=1000:\n",
        "The precision scores range from about 0.81 to 0.85.\n",
        "The recall scores are slightly higher, ranging from approximately 0.87 to 0.91.\n",
        "F1-scores are slightly higher, ranging from 0.85 to 0.88."
      ],
      "metadata": {
        "id": "eHKr8PWjtRxd"
      }
    },
    {
      "cell_type": "code",
      "source": [
        "# 5. PCA with k=100:\n",
        "\n",
        "# Initialize storage for metrics\n",
        "pca_100_metrics = {\n",
        "    \"precision\": [],\n",
        "    \"recall\": [],\n",
        "    \"f1\": []\n",
        "}\n",
        "\n",
        "# Cross-validation loop\n",
        "for train_index, test_index in kf.split(X):\n",
        "    X_train, X_test = X[train_index], X[test_index]\n",
        "    y_train, y_test = y[train_index], y[test_index]\n",
        "\n",
        "    # PCA 100\n",
        "    pca = PCA(n_components=100)\n",
        "    X_train_pca = pca.fit_transform(X_train)\n",
        "    X_test_pca = pca.transform(X_test)\n",
        "    clf = LogisticRegression(max_iter=1000).fit(X_train_pca, y_train)\n",
        "    y_pred = clf.predict(X_test_pca)\n",
        "    pca_100_metrics[\"precision\"].append(precision_score(y_test, y_pred))\n",
        "    pca_100_metrics[\"recall\"].append(recall_score(y_test, y_pred))\n",
        "    pca_100_metrics[\"f1\"].append(f1_score(y_test, y_pred))\n",
        "\n",
        "pca_100_metrics"
      ],
      "metadata": {
        "colab": {
          "base_uri": "https://localhost:8080/"
        },
        "id": "pRaOYjbotSCW",
        "outputId": "7ffe689f-a45d-46e5-b86d-7214f27b1a81"
      },
      "execution_count": 123,
      "outputs": [
        {
          "output_type": "execute_result",
          "data": {
            "text/plain": [
              "{'precision': [0.7783132530120482,\n",
              "  0.8375286041189931,\n",
              "  0.8179723502304147,\n",
              "  0.8495145631067961,\n",
              "  0.8325123152709359],\n",
              " 'recall': [0.8898071625344353,\n",
              "  0.905940594059406,\n",
              "  0.885286783042394,\n",
              "  0.8641975308641975,\n",
              "  0.8556962025316456],\n",
              " 'f1': [0.8303341902313625,\n",
              "  0.8703923900118906,\n",
              "  0.8502994011976047,\n",
              "  0.8567931456548347,\n",
              "  0.8439450686641697]}"
            ]
          },
          "metadata": {},
          "execution_count": 123
        }
      ]
    },
    {
      "cell_type": "markdown",
      "source": [
        "PCA with k=100: The precision scores range from approximately 0.78 to 0.85.The recall scores range from around 0.86 to 0.90.F1-scores range from 0.83 to 0.87."
      ],
      "metadata": {
        "id": "VMRZmsgft0QN"
      }
    },
    {
      "cell_type": "markdown",
      "source": [
        "PCA with k=1000 provides slightly better performance metrics than PCA with\n",
        "k=100. This indicates that retaining more principal components (up to 1000) captures more of the data's variance, which can lead to better model performance.\n",
        "\n",
        "When comparing PCA with L1 regularization, the dimensionality reduction using PCA (especially with k=1000) seems to perform slightly better in terms of F1-score.\n",
        "\n",
        "The choice between PCA and L1 regularization would also depend on other factors, such as computational efficiency and the need for feature selection (L1 can provide feature selection by zeroing out certain coefficients)."
      ],
      "metadata": {
        "id": "-aTgkeviwmrg"
      }
    },
    {
      "cell_type": "markdown",
      "source": [],
      "metadata": {
        "id": "S4TCptmZtyNc"
      }
    }
  ]
}